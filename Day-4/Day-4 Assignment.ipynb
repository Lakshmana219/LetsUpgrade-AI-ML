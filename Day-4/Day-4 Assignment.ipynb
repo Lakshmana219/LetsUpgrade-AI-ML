{
 "cells": [
  {
   "cell_type": "markdown",
   "metadata": {
    "colab_type": "text",
    "id": "cUmLZOczTNcf"
   },
   "source": [
    "# Question-1 Basic operations on complex numbers"
   ]
  },
  {
   "cell_type": "code",
   "execution_count": 7,
   "metadata": {
    "colab": {
     "base_uri": "https://localhost:8080/",
     "height": 85
    },
    "colab_type": "code",
    "id": "AwzWXMR9FAg8",
    "outputId": "e1ea969a-a999-43b1-aa08-20072715f9c2"
   },
   "outputs": [
    {
     "name": "stdout",
     "output_type": "stream",
     "text": [
      "Addition of a and b is : (9+11j)\n",
      "Subtraction of a and b is : (7+3j)\n",
      "Multiplication of a and b is: (-20+39j)\n",
      "Division of a and b is: (2.1176470588235294-1.4705882352941178j)\n"
     ]
    }
   ],
   "source": [
    "a=8+7j\n",
    "b=1+4j\n",
    "c=a+b\n",
    "print(\"Addition of a and b is :\" ,c)\n",
    "d=a-b\n",
    "print(\"Subtraction of a and b is :\" ,d)\n",
    "e=a*b\n",
    "print(\"Multiplication of a and b is:\" ,e)\n",
    "f=a/b\n",
    "print(\"Division of a and b is:\" ,f)"
   ]
  },
  {
   "cell_type": "markdown",
   "metadata": {},
   "source": [
    "We can't perform Modulo Operation and Floor Division on Complex Numbers. If you Try to use a complex number for floor division or modulo perations will raise a _TYPEERROR_"
   ]
  },
  {
   "cell_type": "markdown",
   "metadata": {
    "colab_type": "text",
    "id": "9x2h6HqNmRly"
   },
   "source": [
    "# Question-2 Range() Function Operations\n",
    " ## Range Function has three parameters:\n",
    "  ### 1) Start(optional): An integer number points the position to start by default it is 0\n",
    "  ### 2) Stop(Required): An integer number points the position to stop\n",
    "  ### 3) Step(optional): An integer number specifies the incrementation by default it is 1"
   ]
  },
  {
   "cell_type": "code",
   "execution_count": 1,
   "metadata": {
    "colab": {},
    "colab_type": "code",
    "id": "sHTcdpSHmSBc"
   },
   "outputs": [
    {
     "name": "stdout",
     "output_type": "stream",
     "text": [
      "0\n",
      "1\n",
      "2\n",
      "3\n",
      "4\n"
     ]
    }
   ],
   "source": [
    "for i in range(5):\n",
    "    print(i)"
   ]
  },
  {
   "cell_type": "code",
   "execution_count": 2,
   "metadata": {},
   "outputs": [
    {
     "name": "stdout",
     "output_type": "stream",
     "text": [
      "1\n",
      "2\n",
      "3\n",
      "4\n",
      "5\n",
      "6\n",
      "7\n",
      "8\n",
      "9\n"
     ]
    }
   ],
   "source": [
    "for i in range(1,10):\n",
    "    print(i)"
   ]
  },
  {
   "cell_type": "code",
   "execution_count": 3,
   "metadata": {},
   "outputs": [
    {
     "name": "stdout",
     "output_type": "stream",
     "text": [
      "1\n",
      "3\n",
      "5\n",
      "7\n",
      "9\n"
     ]
    }
   ],
   "source": [
    "for i in range(1,10,2):\n",
    "    print(i)"
   ]
  },
  {
   "cell_type": "markdown",
   "metadata": {
    "colab_type": "text",
    "id": "yZEzO6yZTBxo"
   },
   "source": [
    "# Question-3 \n",
    " Consider two numbers. Perform their subtraction and if the result of subtraction is greater than\n",
    "25, print their multiplication result else print their division result."
   ]
  },
  {
   "cell_type": "code",
   "execution_count": 4,
   "metadata": {
    "colab": {
     "base_uri": "https://localhost:8080/",
     "height": 34
    },
    "colab_type": "code",
    "id": "oK6hnpoDH00J",
    "outputId": "52b67a45-27c1-4058-cc48-d6d1d42b09d5"
   },
   "outputs": [
    {
     "name": "stdout",
     "output_type": "stream",
     "text": [
      "Division of a and b is: 1.5\n"
     ]
    }
   ],
   "source": [
    "a=30\n",
    "b=20\n",
    "c=a-b\n",
    "if c>25:\n",
    " d=a*b\n",
    " print(\"Multiplication of a and b is:\" ,d)\n",
    "else:\n",
    " e=a/b\n",
    " print(\"Division of a and b is:\" ,e)"
   ]
  },
  {
   "cell_type": "markdown",
   "metadata": {
    "colab_type": "text",
    "id": "pKdJSdUOUr5E"
   },
   "source": [
    " # Question 4\n",
    "Consider a list of 10 elements of integer values. If the number in the list is divisible by 2, print the\n",
    "result as \"square of that number minus 2\"."
   ]
  },
  {
   "cell_type": "code",
   "execution_count": 5,
   "metadata": {
    "colab": {
     "base_uri": "https://localhost:8080/",
     "height": 102
    },
    "colab_type": "code",
    "id": "I6NJi8laOKPv",
    "outputId": "8913a302-434f-4c8f-d00a-52d35eaa9552"
   },
   "outputs": [
    {
     "name": "stdout",
     "output_type": "stream",
     "text": [
      "square of that number minus  2\n",
      "square of that number minus  14\n",
      "square of that number minus  34\n",
      "square of that number minus  62\n",
      "square of that number minus  98\n"
     ]
    }
   ],
   "source": [
    "l=[1,2,3,4,5,6,7,8,9,10]\n",
    "for i in l:\n",
    "    if i%2==0: \n",
    "        n=i**2-2\n",
    "        print(\"square of that number minus \" ,n)"
   ]
  },
  {
   "cell_type": "markdown",
   "metadata": {
    "colab_type": "text",
    "id": "zpoh7WfsU2R4"
   },
   "source": [
    "# Question-5\n",
    "Consider a list of 10 elements. Print all the elements in the list which are greater than 7 when that\n",
    "number is divided 2."
   ]
  },
  {
   "cell_type": "code",
   "execution_count": 6,
   "metadata": {
    "colab": {
     "base_uri": "https://localhost:8080/",
     "height": 102
    },
    "colab_type": "code",
    "id": "nyCUhIk3P64y",
    "outputId": "ddda880d-02a5-4eec-d132-42defbab020f"
   },
   "outputs": [
    {
     "name": "stdout",
     "output_type": "stream",
     "text": [
      "Value is: 12\n",
      "Value is: 16\n",
      "Value is: 18\n",
      "Value is: 20\n"
     ]
    }
   ],
   "source": [
    "l=[11,12,13,4,15,16,17,18,9,20]\n",
    "for i in l:\n",
    "  if i%2==0:\n",
    "    if i>7:\n",
    "      print(\"Value is:\" , i)"
   ]
  },
  {
   "cell_type": "code",
   "execution_count": null,
   "metadata": {},
   "outputs": [],
   "source": []
  }
 ],
 "metadata": {
  "colab": {
   "name": "Day-4 Assignment.ipynb",
   "provenance": []
  },
  "kernelspec": {
   "display_name": "Python 3",
   "language": "python",
   "name": "python3"
  },
  "language_info": {
   "codemirror_mode": {
    "name": "ipython",
    "version": 3
   },
   "file_extension": ".py",
   "mimetype": "text/x-python",
   "name": "python",
   "nbconvert_exporter": "python",
   "pygments_lexer": "ipython3",
   "version": "3.7.6"
  }
 },
 "nbformat": 4,
 "nbformat_minor": 1
}
