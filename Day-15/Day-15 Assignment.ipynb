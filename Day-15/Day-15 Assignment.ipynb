{
 "cells": [
  {
   "cell_type": "markdown",
   "metadata": {},
   "source": [
    "# 1. Create a 3x3x3 array with random values "
   ]
  },
  {
   "cell_type": "code",
   "execution_count": 1,
   "metadata": {},
   "outputs": [
    {
     "name": "stdout",
     "output_type": "stream",
     "text": [
      "[[[0.88169665 0.77563875 0.10656327]\n",
      "  [0.31337864 0.60439027 0.05516137]\n",
      "  [0.36431937 0.20291113 0.17431091]]\n",
      "\n",
      " [[0.97251483 0.32337693 0.77946867]\n",
      "  [0.53111645 0.53616503 0.38831987]\n",
      "  [0.11114594 0.56509157 0.90756448]]\n",
      "\n",
      " [[0.08965156 0.13536749 0.1175949 ]\n",
      "  [0.18990069 0.39516294 0.56076678]\n",
      "  [0.4000758  0.95146981 0.54209255]]]\n"
     ]
    }
   ],
   "source": [
    "import numpy as np\n",
    "\n",
    "x = np.random.random((3,3,3))\n",
    "print(x)"
   ]
  },
  {
   "cell_type": "markdown",
   "metadata": {},
   "source": [
    "# 2.Create a 5x5 matrix with values 1,2,3,4 just below the diagonal"
   ]
  },
  {
   "cell_type": "code",
   "execution_count": 2,
   "metadata": {},
   "outputs": [
    {
     "name": "stdout",
     "output_type": "stream",
     "text": [
      "[[0 0 0 0 0]\n",
      " [1 0 0 0 0]\n",
      " [0 2 0 0 0]\n",
      " [0 0 3 0 0]\n",
      " [0 0 0 4 0]]\n"
     ]
    }
   ],
   "source": [
    "x = np.diag(1+np.arange(4), k = -1)\n",
    "print(x)"
   ]
  },
  {
   "cell_type": "markdown",
   "metadata": {},
   "source": [
    "# 3.Create a 8x8 matrix and fill it with a checkerboard pattern"
   ]
  },
  {
   "cell_type": "code",
   "execution_count": 5,
   "metadata": {},
   "outputs": [
    {
     "name": "stdout",
     "output_type": "stream",
     "text": [
      "[[0. 1. 0. 1. 0. 1. 0. 1.]\n",
      " [1. 0. 1. 0. 1. 0. 1. 0.]\n",
      " [0. 1. 0. 1. 0. 1. 0. 1.]\n",
      " [1. 0. 1. 0. 1. 0. 1. 0.]\n",
      " [0. 1. 0. 1. 0. 1. 0. 1.]\n",
      " [1. 0. 1. 0. 1. 0. 1. 0.]\n",
      " [0. 1. 0. 1. 0. 1. 0. 1.]\n",
      " [1. 0. 1. 0. 1. 0. 1. 0.]]\n"
     ]
    }
   ],
   "source": [
    "y = np.zeros((8,8,))\n",
    "y[::2, 1::2] = 1\n",
    "y[1::2, ::2]= 1\n",
    "print(y)"
   ]
  },
  {
   "cell_type": "markdown",
   "metadata": {},
   "source": [
    "# 4. Normalize a 5x5 random matrix"
   ]
  },
  {
   "cell_type": "code",
   "execution_count": 7,
   "metadata": {},
   "outputs": [
    {
     "name": "stdout",
     "output_type": "stream",
     "text": [
      "[[0.20439637 0.59812903 0.42764074 0.33365769 0.68291922]\n",
      " [1.         0.8801793  0.         0.16686768 0.97492667]\n",
      " [0.76459647 0.85267302 0.98205262 0.24120008 0.30976224]\n",
      " [0.70792177 0.41477354 0.36209778 0.05786428 0.9092333 ]\n",
      " [0.42397132 0.55526596 0.92880385 0.5292912  0.73743539]]\n"
     ]
    }
   ],
   "source": [
    "y = np.random.random((5,5))\n",
    "ymin = y.min()\n",
    "ymax = y.max()\n",
    "y = (y - ymin) / (ymax - ymin)\n",
    "print(y)"
   ]
  },
  {
   "cell_type": "markdown",
   "metadata": {},
   "source": [
    "# 5.  How to find common values between two arrays?"
   ]
  },
  {
   "cell_type": "code",
   "execution_count": 11,
   "metadata": {},
   "outputs": [
    {
     "name": "stdout",
     "output_type": "stream",
     "text": [
      "Array X  [1, 2, 4, 56, 66, 0]\n",
      "Array Y  [43, 22, 3, 7, 2, 1, 0]\n",
      "\n",
      "Common values between two arrays:\n",
      "[0 1 2]\n"
     ]
    }
   ],
   "source": [
    "x = [1,2,4,56,66,0]\n",
    "y = [43,22,3,7,2, 1,0]\n",
    "\n",
    "print('Array X ',x)\n",
    "print(\"Array Y \",y)\n",
    "print('')\n",
    "\n",
    "print(\"Common values between two arrays:\")\n",
    "print(np.intersect1d(x, y))"
   ]
  },
  {
   "cell_type": "markdown",
   "metadata": {},
   "source": [
    "# 6.How to get the dates of yesterday, today and tomorrow?"
   ]
  },
  {
   "cell_type": "code",
   "execution_count": 15,
   "metadata": {},
   "outputs": [
    {
     "name": "stdout",
     "output_type": "stream",
     "text": [
      "Yesterday 2020-07-26\n",
      "Today's Date 2020-07-27\n",
      "Tomorrow Date 2020-07-28\n"
     ]
    }
   ],
   "source": [
    "# Yesterday Date\n",
    "yesterday = np.datetime64('today', 'D') - np.timedelta64(1, 'D')\n",
    "print('Yesterday', yesterday)\n",
    "\n",
    "# Today's Date\n",
    "today = np.datetime64('today', 'D')\n",
    "print(\"Today's Date\",today)\n",
    "\n",
    "# Tomorrow's Date\n",
    "tomorrow = np.datetime64('today', 'D') + np.timedelta64(1, 'D')\n",
    "print('Tomorrow Date', tomorrow)"
   ]
  },
  {
   "cell_type": "markdown",
   "metadata": {},
   "source": [
    "# 7. Consider two random array A and B, check if they are equal"
   ]
  },
  {
   "cell_type": "code",
   "execution_count": 16,
   "metadata": {},
   "outputs": [
    {
     "name": "stdout",
     "output_type": "stream",
     "text": [
      "False\n"
     ]
    }
   ],
   "source": [
    "A = np.random.randint(0,2,5)\n",
    "B = np.random.randint(0,2,5)\n",
    "equal = np.allclose(A,B)\n",
    "print(equal)"
   ]
  },
  {
   "cell_type": "markdown",
   "metadata": {},
   "source": [
    "# 8.Create random vector of size 10 and replace the maximum value by 0 "
   ]
  },
  {
   "cell_type": "code",
   "execution_count": 23,
   "metadata": {},
   "outputs": [
    {
     "name": "stdout",
     "output_type": "stream",
     "text": [
      "[0.86086084 0.01279031 0.         0.85523699 0.38227162 0.0449438\n",
      " 0.2955043  0.56540461 0.24859554 0.85266484]\n"
     ]
    }
   ],
   "source": [
    "x = np.random.random(10)\n",
    "x[x.argmax()] = 0\n",
    "print(x)"
   ]
  },
  {
   "cell_type": "markdown",
   "metadata": {},
   "source": [
    "# 9. How to print all the values of an array?"
   ]
  },
  {
   "cell_type": "code",
   "execution_count": 24,
   "metadata": {},
   "outputs": [
    {
     "name": "stdout",
     "output_type": "stream",
     "text": [
      "[0.89261098 0.62724217 0.14958515 0.274178   0.90436662 0.21610653\n",
      " 0.70775438 0.86085704 0.3743503  0.89345049 0.83868342 0.1508974\n",
      " 0.5250211  0.65790774 0.78301412 0.4268326  0.98952705 0.44454544\n",
      " 0.31508999 0.83270569]\n"
     ]
    }
   ],
   "source": [
    "x = np.random.random(20)\n",
    "print(x)"
   ]
  },
  {
   "cell_type": "markdown",
   "metadata": {},
   "source": [
    "# 10.Subtract the mean of each row of a matrix"
   ]
  },
  {
   "cell_type": "code",
   "execution_count": 27,
   "metadata": {},
   "outputs": [
    {
     "name": "stdout",
     "output_type": "stream",
     "text": [
      "[[0.71021888 0.33078098 0.95338254 0.50173368 0.37595965 0.57864371\n",
      "  0.35068204 0.26140368 0.86254683 0.48195482]\n",
      " [0.06985797 0.18498939 0.57095543 0.28884027 0.46778843 0.98889838\n",
      "  0.80230367 0.77759657 0.89626215 0.97530005]\n",
      " [0.56865075 0.71091175 0.5334407  0.64864656 0.1107468  0.8364971\n",
      "  0.90312236 0.12557397 0.97929479 0.14578166]\n",
      " [0.8755843  0.13921757 0.90707172 0.55706979 0.46638039 0.49828421\n",
      "  0.25892679 0.84036081 0.6179556  0.79433801]\n",
      " [0.27483111 0.29418324 0.45616119 0.17263402 0.98118149 0.29941848\n",
      "  0.11795068 0.4458429  0.88584965 0.50805904]]\n",
      "[[ 0.1694882  -0.2099497   0.41265186 -0.038997   -0.16477103  0.03791303\n",
      "  -0.19004864 -0.279327    0.32181615 -0.05877586]\n",
      " [-0.53242126 -0.41728984 -0.0313238  -0.31343896 -0.1344908   0.38661915\n",
      "   0.20002444  0.17531734  0.29398292  0.37302082]\n",
      " [ 0.01238411  0.1546451  -0.02282594  0.09237991 -0.44551984  0.28023046\n",
      "   0.34685571 -0.43069267  0.42302815 -0.41048498]\n",
      " [ 0.28006538 -0.45630135  0.3115528  -0.03844913 -0.12913853 -0.09723471\n",
      "  -0.33659213  0.24484189  0.02243668  0.19881909]\n",
      " [-0.16878007 -0.14942794  0.01255001 -0.27097716  0.53757031 -0.1441927\n",
      "  -0.3256605   0.00223172  0.44223847  0.06444786]]\n"
     ]
    }
   ],
   "source": [
    "x = np.random.rand(5, 10)\n",
    "y = x - x.mean(axis=1,keepdims=True)\n",
    "print(x)\n",
    "print(y)"
   ]
  },
  {
   "cell_type": "markdown",
   "metadata": {},
   "source": [
    "# 11.Consider a given vector, how to add 1 to each element indexed by a second vector (be careful with repeated indices)? "
   ]
  },
  {
   "cell_type": "code",
   "execution_count": 28,
   "metadata": {},
   "outputs": [
    {
     "name": "stdout",
     "output_type": "stream",
     "text": [
      "[3. 3. 4. 2. 4. 3. 3. 2. 3. 3.]\n"
     ]
    }
   ],
   "source": [
    "Z = np.ones(10)\n",
    "I = np.random.randint(0,len(Z),20)\n",
    "Z += np.bincount(I, minlength=len(Z))\n",
    "print(Z)"
   ]
  },
  {
   "cell_type": "code",
   "execution_count": null,
   "metadata": {},
   "outputs": [],
   "source": []
  },
  {
   "cell_type": "markdown",
   "metadata": {},
   "source": [
    "# 12.How to get the diagonal of a dot product?"
   ]
  },
  {
   "cell_type": "code",
   "execution_count": 30,
   "metadata": {},
   "outputs": [
    {
     "name": "stdout",
     "output_type": "stream",
     "text": [
      "A  [[2 8 8]\n",
      " [3 3 6]\n",
      " [6 4 5]]\n",
      "B  [[9 9 6]\n",
      " [1 7 8]\n",
      " [4 0 1]]\n",
      "[58 48 73]\n"
     ]
    }
   ],
   "source": [
    "A = np.random.randint(0,10,(3,3))\n",
    "B= np.random.randint(0,10,(3,3))\n",
    "print('A ',A)\n",
    "print('B ', B)\n",
    "print(np.sum(A * B.T, axis=1))"
   ]
  },
  {
   "cell_type": "markdown",
   "metadata": {},
   "source": [
    "# 13.How to find the most frequent value in an array?"
   ]
  },
  {
   "cell_type": "code",
   "execution_count": 32,
   "metadata": {},
   "outputs": [
    {
     "name": "stdout",
     "output_type": "stream",
     "text": [
      "[5 5 1 7 4 0 4 4 1 6 9 4 7 8 3 4 9 8 7 3 7 6 6 8 5 3 5 9 3 8 5 2 6 7 9 5 2\n",
      " 8 6 5 8 3 7 6 3 5 6 5 4 7]\n",
      "rank: 5\n"
     ]
    }
   ],
   "source": [
    "x = np.random.randint(0,10,50)\n",
    "\n",
    "print(x)\n",
    "\n",
    "print('rank:', np.bincount(x).argmax())"
   ]
  },
  {
   "cell_type": "markdown",
   "metadata": {},
   "source": [
    "# 14.How to get the n largest values of an array"
   ]
  },
  {
   "cell_type": "code",
   "execution_count": 33,
   "metadata": {},
   "outputs": [
    {
     "name": "stdout",
     "output_type": "stream",
     "text": [
      "[9997 9999 9998 9996 9995]\n"
     ]
    }
   ],
   "source": [
    "x = np.arange(10000)\n",
    "np.random.shuffle(x)\n",
    "n = 5\n",
    "print (x[np.argpartition(-x,n)[:n]])"
   ]
  },
  {
   "cell_type": "markdown",
   "metadata": {},
   "source": [
    "# 15.How to create a record array from a regular array?"
   ]
  },
  {
   "cell_type": "code",
   "execution_count": 34,
   "metadata": {},
   "outputs": [],
   "source": [
    "Z = np.array([(\"Hello\", 2.5, 3),\n",
    "              (\"World\", 3.6, 2)])\n",
    "R = np.core.records.fromarrays(Z.T,\n",
    "                               names='col1, col2, col3',\n",
    "                               formats = 'S8, f8, i8')"
   ]
  },
  {
   "cell_type": "code",
   "execution_count": null,
   "metadata": {},
   "outputs": [],
   "source": []
  }
 ],
 "metadata": {
  "kernelspec": {
   "display_name": "Python 3",
   "language": "python",
   "name": "python3"
  },
  "language_info": {
   "codemirror_mode": {
    "name": "ipython",
    "version": 3
   },
   "file_extension": ".py",
   "mimetype": "text/x-python",
   "name": "python",
   "nbconvert_exporter": "python",
   "pygments_lexer": "ipython3",
   "version": "3.7.6"
  }
 },
 "nbformat": 4,
 "nbformat_minor": 2
}
