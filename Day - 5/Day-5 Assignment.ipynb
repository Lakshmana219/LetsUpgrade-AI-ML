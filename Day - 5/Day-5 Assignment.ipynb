{
  "nbformat": 4,
  "nbformat_minor": 0,
  "metadata": {
    "colab": {
      "name": "Day-5.ipynb",
      "provenance": [],
      "collapsed_sections": []
    },
    "kernelspec": {
      "name": "python3",
      "display_name": "Python 3"
    }
  },
  "cells": [
    {
      "cell_type": "markdown",
      "metadata": {
        "id": "gxgcNJXOAFwO",
        "colab_type": "text"
      },
      "source": [
        "Question 1:\n",
        "Write a Python program to find the first 20 non-even prime natural numbers."
      ]
    },
    {
      "cell_type": "code",
      "metadata": {
        "id": "lmQkcD3D__mC",
        "colab_type": "code",
        "colab": {
          "base_uri": "https://localhost:8080/",
          "height": 50
        },
        "outputId": "684d489c-51ae-42ab-862c-7c6958dc41e4"
      },
      "source": [
        "print(\"The first 20 non-even Prime Natural Number are :\")\n",
        "for num in range(0,51):  \n",
        "   if num > 1:  \n",
        "       for i in range(2,num):  \n",
        "           if (num % i) == 0:  \n",
        "               break  \n",
        "       else:\n",
        "         #print(num)\n",
        "         if (num%2) != 0 and num <=20:\n",
        "             \n",
        "           print(num,end=\" \") "
      ],
      "execution_count": 44,
      "outputs": [
        {
          "output_type": "stream",
          "text": [
            "The first 20 non-even Prime Natural Number are :\n",
            "3 5 7 11 13 17 19 "
          ],
          "name": "stdout"
        }
      ]
    },
    {
      "cell_type": "markdown",
      "metadata": {
        "id": "0LBub7IGJv6M",
        "colab_type": "text"
      },
      "source": [
        "Question 2:\n",
        "Write a Python program to implement 15 functions of string."
      ]
    },
    {
      "cell_type": "code",
      "metadata": {
        "id": "qYE7_E7aBtdN",
        "colab_type": "code",
        "colab": {
          "base_uri": "https://localhost:8080/",
          "height": 289
        },
        "outputId": "1fed73f7-4037-4156-e0ef-3963ddcd9942"
      },
      "source": [
        "a = 'Hello World!'\n",
        "print(\"Conversts the first character to upper case \", a.capitalize())\n",
        "print(\"Convert string into lower case \", a.casefold())\n",
        "print(\"Returns a encoded version of the string \", a.encode())\n",
        "print(\"Search the string for a specified value and returns positon\", a.find(\" \"))\n",
        "print(\"Returns TRUE if all the charaters in the string are lower\", a.islower())\n",
        "print(\"Converts a string into lower case\", a.lower())\n",
        "print(\"Returns a string where a specified value is replcaed with a specified value \", a.replace(\" \", \"/\"))\n",
        "print(\"Splits the string at the specified separator and returns a list\", a.split(\" \"))\n",
        "print(\"Convert a string into Upper Case \", a.upper())\n",
        "print(\"Returns TRUE if all the charaters in the string are upper\", a.isupper())\n",
        "print(\"Removes the number of times a specified value occurs in a string\", a.count(\"l\"))\n",
        "print(\"Searches the string for a specified value and returns the position of where it found\", a.index(\"!\"))\n",
        "print(\"Returns TRUE if all characters in the string are digits\", a.isdigit())\n",
        "print(\"Returns TRUE if all characters in the string are whitespaces\", a.isspace())\n",
        "print(\"Returns TRUE if the string follows the rules of a title\", a.istitle())"
      ],
      "execution_count": 93,
      "outputs": [
        {
          "output_type": "stream",
          "text": [
            "Conversts the first character to upper case  Hello world!\n",
            "Convert string into lower case  hello world!\n",
            "Returns a encoded version of the string  b'Hello World!'\n",
            "Search the string for a specified value and returns positon 5\n",
            "Returns TRUE if all the charaters in the string are lower False\n",
            "Converts a string into lower case hello world!\n",
            "Returns a string where a specified value is replcaed with a specified value  Hello/World!\n",
            "Splits the string at the specified separator and returns a list ['Hello', 'World!']\n",
            "Convert a string into Upper Case  HELLO WORLD!\n",
            "Returns TRUE if all the charaters in the string are upper False\n",
            "Removes the number of times a specified value occurs in a string 3\n",
            "Searches the string for a specified value and returns the position of where it found 11\n",
            "Returns TRUE if all characters in the string are digits False\n",
            "Returns TRUE if all characters in the string are whitespaces False\n",
            "Returns TRUE if the string follows the rules of a title True\n"
          ],
          "name": "stdout"
        }
      ]
    },
    {
      "cell_type": "markdown",
      "metadata": {
        "id": "eR3xFhx7Mt_H",
        "colab_type": "text"
      },
      "source": [
        "Question 3: Write a Python program to check if the given string is a Palindrome or Anagram or None of them.\n",
        "Display the message accordingly to the user."
      ]
    },
    {
      "cell_type": "code",
      "metadata": {
        "id": "VzXjZQtRM2qz",
        "colab_type": "code",
        "colab": {
          "base_uri": "https://localhost:8080/",
          "height": 50
        },
        "outputId": "333aef5e-33f8-4c8e-ab21-d93fac41f1c8"
      },
      "source": [
        "string_input1 = input(\"Please insert first String here:\")\n",
        "string_input2 = input(\"Please insert second String here: \")"
      ],
      "execution_count": 53,
      "outputs": [
        {
          "output_type": "stream",
          "text": [
            "Please insert first String here:malayalam\n",
            "Please insert second String here: mmalayala\n"
          ],
          "name": "stdout"
        }
      ]
    },
    {
      "cell_type": "code",
      "metadata": {
        "id": "dLhKMUdTNMyB",
        "colab_type": "code",
        "colab": {
          "base_uri": "https://localhost:8080/",
          "height": 50
        },
        "outputId": "e2d011a5-17b6-4695-dc46-10a3ecd187b5"
      },
      "source": [
        "if string_input1 is not None and string_input2 is not None:\n",
        "  if string_input1 == string_input1[::-1] and string_input2 == string_input2[::-1]:\n",
        "    print(\"The given both strings are Palindrome. And the strings are - {a} and {b}\".format(a = string_input1, b = string_input2))\n",
        "  elif string_input1 == string_input1[::-1]:\n",
        "    print(\"Only First string is Palindrome. And the string is - {}\".format(string_input1))\n",
        "  elif string_input2 == string_input2[::-1]:\n",
        "    print(\"Only Second string is Palindrome. And the string is - {}\".format(string_input2))\n",
        "  else:\n",
        "    print(\"Both the given strings are not Palindrome.\")\n",
        "  if sorted(string_input1) == sorted(string_input2):\n",
        "    print(\"The given string are Anagram. And the strings are - {a} and {b}\".format(a = string_input1, b = string_input2))\n",
        "else:\n",
        "  print(\"None\")\n"
      ],
      "execution_count": 56,
      "outputs": [
        {
          "output_type": "stream",
          "text": [
            "Only First string is Palindrome. And the string is - malayalam\n",
            "The given string are Anagram. And the strings are - malayalam and mmalayala\n"
          ],
          "name": "stdout"
        }
      ]
    },
    {
      "cell_type": "markdown",
      "metadata": {
        "id": "EBWg8AhsaBuV",
        "colab_type": "text"
      },
      "source": [
        "Question 4:\n",
        "Write a Python's user defined function that removes all the additional characters from the string\n",
        "and converts it finally to lower case using built-in lower(). eg: If the string is \"Dr. Darshan Ingle\n",
        "@AI-ML Trainer\", then the output be \"drdarshaningleaimltrainer\".\n"
      ]
    },
    {
      "cell_type": "code",
      "metadata": {
        "id": "xVj4llXVNPiN",
        "colab_type": "code",
        "colab": {}
      },
      "source": [
        "a_string = \"Dr. Darshan Ingle @AI-ML Trainer\"\n",
        "def remove_additionals(a_string):\n",
        "  alp = \"\"\n",
        "  for i in a_string:\n",
        "    if i.isalnum():\n",
        "      alp +=i\n",
        "  return alp.lower()"
      ],
      "execution_count": 110,
      "outputs": []
    },
    {
      "cell_type": "code",
      "metadata": {
        "id": "32-WYnvLbJjZ",
        "colab_type": "code",
        "colab": {
          "base_uri": "https://localhost:8080/",
          "height": 34
        },
        "outputId": "11daa540-02da-4f6d-c09e-684892d839f7"
      },
      "source": [
        "print(remove_additionals(a_string))"
      ],
      "execution_count": 111,
      "outputs": [
        {
          "output_type": "stream",
          "text": [
            "drdarshaningleaimltrainer\n"
          ],
          "name": "stdout"
        }
      ]
    },
    {
      "cell_type": "code",
      "metadata": {
        "id": "xNUd_WdFbLkV",
        "colab_type": "code",
        "colab": {}
      },
      "source": [
        ""
      ],
      "execution_count": null,
      "outputs": []
    }
  ]
}