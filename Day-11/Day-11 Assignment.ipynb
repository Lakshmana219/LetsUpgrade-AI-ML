{
  "nbformat": 4,
  "nbformat_minor": 0,
  "metadata": {
    "colab": {
      "name": "Day-11 Assignment.ipynb",
      "provenance": [],
      "collapsed_sections": []
    },
    "kernelspec": {
      "name": "python3",
      "display_name": "Python 3"
    }
  },
  "cells": [
    {
      "cell_type": "code",
      "metadata": {
        "id": "g4EJrQfAZa4T",
        "colab_type": "code",
        "colab": {}
      },
      "source": [
        "import pandas as pd\n",
        "import numpy as np\n",
        "import matplotlib.pyplot as plt\n",
        "from scipy.stats import pointbiserialr\n",
        "from scipy.stats import pearsonr"
      ],
      "execution_count": null,
      "outputs": []
    },
    {
      "cell_type": "code",
      "metadata": {
        "id": "n5HqAerqa59B",
        "colab_type": "code",
        "colab": {}
      },
      "source": [
        "df = pd.read_csv('general_data.csv')"
      ],
      "execution_count": null,
      "outputs": []
    },
    {
      "cell_type": "code",
      "metadata": {
        "id": "xefl9QUJbOVy",
        "colab_type": "code",
        "colab": {
          "base_uri": "https://localhost:8080/",
          "height": 309
        },
        "outputId": "f8809f23-8373-4b1b-8f89-fb68ad86e344"
      },
      "source": [
        "df.head()"
      ],
      "execution_count": null,
      "outputs": [
        {
          "output_type": "execute_result",
          "data": {
            "text/html": [
              "<div>\n",
              "<style scoped>\n",
              "    .dataframe tbody tr th:only-of-type {\n",
              "        vertical-align: middle;\n",
              "    }\n",
              "\n",
              "    .dataframe tbody tr th {\n",
              "        vertical-align: top;\n",
              "    }\n",
              "\n",
              "    .dataframe thead th {\n",
              "        text-align: right;\n",
              "    }\n",
              "</style>\n",
              "<table border=\"1\" class=\"dataframe\">\n",
              "  <thead>\n",
              "    <tr style=\"text-align: right;\">\n",
              "      <th></th>\n",
              "      <th>Age</th>\n",
              "      <th>Attrition</th>\n",
              "      <th>BusinessTravel</th>\n",
              "      <th>Department</th>\n",
              "      <th>DistanceFromHome</th>\n",
              "      <th>Education</th>\n",
              "      <th>EducationField</th>\n",
              "      <th>EmployeeCount</th>\n",
              "      <th>EmployeeID</th>\n",
              "      <th>Gender</th>\n",
              "      <th>JobLevel</th>\n",
              "      <th>JobRole</th>\n",
              "      <th>MaritalStatus</th>\n",
              "      <th>MonthlyIncome</th>\n",
              "      <th>NumCompaniesWorked</th>\n",
              "      <th>Over18</th>\n",
              "      <th>PercentSalaryHike</th>\n",
              "      <th>StandardHours</th>\n",
              "      <th>StockOptionLevel</th>\n",
              "      <th>TotalWorkingYears</th>\n",
              "      <th>TrainingTimesLastYear</th>\n",
              "      <th>YearsAtCompany</th>\n",
              "      <th>YearsSinceLastPromotion</th>\n",
              "      <th>YearsWithCurrManager</th>\n",
              "    </tr>\n",
              "  </thead>\n",
              "  <tbody>\n",
              "    <tr>\n",
              "      <th>0</th>\n",
              "      <td>51</td>\n",
              "      <td>No</td>\n",
              "      <td>Travel_Rarely</td>\n",
              "      <td>Sales</td>\n",
              "      <td>6</td>\n",
              "      <td>2</td>\n",
              "      <td>Life Sciences</td>\n",
              "      <td>1</td>\n",
              "      <td>1</td>\n",
              "      <td>Female</td>\n",
              "      <td>1</td>\n",
              "      <td>Healthcare Representative</td>\n",
              "      <td>Married</td>\n",
              "      <td>131160</td>\n",
              "      <td>1.0</td>\n",
              "      <td>Y</td>\n",
              "      <td>11</td>\n",
              "      <td>8</td>\n",
              "      <td>0</td>\n",
              "      <td>1.0</td>\n",
              "      <td>6</td>\n",
              "      <td>1</td>\n",
              "      <td>0</td>\n",
              "      <td>0</td>\n",
              "    </tr>\n",
              "    <tr>\n",
              "      <th>1</th>\n",
              "      <td>31</td>\n",
              "      <td>Yes</td>\n",
              "      <td>Travel_Frequently</td>\n",
              "      <td>Research &amp; Development</td>\n",
              "      <td>10</td>\n",
              "      <td>1</td>\n",
              "      <td>Life Sciences</td>\n",
              "      <td>1</td>\n",
              "      <td>2</td>\n",
              "      <td>Female</td>\n",
              "      <td>1</td>\n",
              "      <td>Research Scientist</td>\n",
              "      <td>Single</td>\n",
              "      <td>41890</td>\n",
              "      <td>0.0</td>\n",
              "      <td>Y</td>\n",
              "      <td>23</td>\n",
              "      <td>8</td>\n",
              "      <td>1</td>\n",
              "      <td>6.0</td>\n",
              "      <td>3</td>\n",
              "      <td>5</td>\n",
              "      <td>1</td>\n",
              "      <td>4</td>\n",
              "    </tr>\n",
              "    <tr>\n",
              "      <th>2</th>\n",
              "      <td>32</td>\n",
              "      <td>No</td>\n",
              "      <td>Travel_Frequently</td>\n",
              "      <td>Research &amp; Development</td>\n",
              "      <td>17</td>\n",
              "      <td>4</td>\n",
              "      <td>Other</td>\n",
              "      <td>1</td>\n",
              "      <td>3</td>\n",
              "      <td>Male</td>\n",
              "      <td>4</td>\n",
              "      <td>Sales Executive</td>\n",
              "      <td>Married</td>\n",
              "      <td>193280</td>\n",
              "      <td>1.0</td>\n",
              "      <td>Y</td>\n",
              "      <td>15</td>\n",
              "      <td>8</td>\n",
              "      <td>3</td>\n",
              "      <td>5.0</td>\n",
              "      <td>2</td>\n",
              "      <td>5</td>\n",
              "      <td>0</td>\n",
              "      <td>3</td>\n",
              "    </tr>\n",
              "    <tr>\n",
              "      <th>3</th>\n",
              "      <td>38</td>\n",
              "      <td>No</td>\n",
              "      <td>Non-Travel</td>\n",
              "      <td>Research &amp; Development</td>\n",
              "      <td>2</td>\n",
              "      <td>5</td>\n",
              "      <td>Life Sciences</td>\n",
              "      <td>1</td>\n",
              "      <td>4</td>\n",
              "      <td>Male</td>\n",
              "      <td>3</td>\n",
              "      <td>Human Resources</td>\n",
              "      <td>Married</td>\n",
              "      <td>83210</td>\n",
              "      <td>3.0</td>\n",
              "      <td>Y</td>\n",
              "      <td>11</td>\n",
              "      <td>8</td>\n",
              "      <td>3</td>\n",
              "      <td>13.0</td>\n",
              "      <td>5</td>\n",
              "      <td>8</td>\n",
              "      <td>7</td>\n",
              "      <td>5</td>\n",
              "    </tr>\n",
              "    <tr>\n",
              "      <th>4</th>\n",
              "      <td>32</td>\n",
              "      <td>No</td>\n",
              "      <td>Travel_Rarely</td>\n",
              "      <td>Research &amp; Development</td>\n",
              "      <td>10</td>\n",
              "      <td>1</td>\n",
              "      <td>Medical</td>\n",
              "      <td>1</td>\n",
              "      <td>5</td>\n",
              "      <td>Male</td>\n",
              "      <td>1</td>\n",
              "      <td>Sales Executive</td>\n",
              "      <td>Single</td>\n",
              "      <td>23420</td>\n",
              "      <td>4.0</td>\n",
              "      <td>Y</td>\n",
              "      <td>12</td>\n",
              "      <td>8</td>\n",
              "      <td>2</td>\n",
              "      <td>9.0</td>\n",
              "      <td>2</td>\n",
              "      <td>6</td>\n",
              "      <td>0</td>\n",
              "      <td>4</td>\n",
              "    </tr>\n",
              "  </tbody>\n",
              "</table>\n",
              "</div>"
            ],
            "text/plain": [
              "   Age Attrition  ... YearsSinceLastPromotion YearsWithCurrManager\n",
              "0   51        No  ...                       0                    0\n",
              "1   31       Yes  ...                       1                    4\n",
              "2   32        No  ...                       0                    3\n",
              "3   38        No  ...                       7                    5\n",
              "4   32        No  ...                       0                    4\n",
              "\n",
              "[5 rows x 24 columns]"
            ]
          },
          "metadata": {
            "tags": []
          },
          "execution_count": 3
        }
      ]
    },
    {
      "cell_type": "code",
      "metadata": {
        "id": "kMgjPVUwbPtT",
        "colab_type": "code",
        "colab": {
          "base_uri": "https://localhost:8080/",
          "height": 136
        },
        "outputId": "812a8a20-1268-4e67-a4b9-230e45c05ddc"
      },
      "source": [
        "df.columns"
      ],
      "execution_count": null,
      "outputs": [
        {
          "output_type": "execute_result",
          "data": {
            "text/plain": [
              "Index(['Age', 'Attrition', 'BusinessTravel', 'Department', 'DistanceFromHome',\n",
              "       'Education', 'EducationField', 'EmployeeCount', 'EmployeeID', 'Gender',\n",
              "       'JobLevel', 'JobRole', 'MaritalStatus', 'MonthlyIncome',\n",
              "       'NumCompaniesWorked', 'Over18', 'PercentSalaryHike', 'StandardHours',\n",
              "       'StockOptionLevel', 'TotalWorkingYears', 'TrainingTimesLastYear',\n",
              "       'YearsAtCompany', 'YearsSinceLastPromotion', 'YearsWithCurrManager'],\n",
              "      dtype='object')"
            ]
          },
          "metadata": {
            "tags": []
          },
          "execution_count": 4
        }
      ]
    },
    {
      "cell_type": "markdown",
      "metadata": {
        "id": "UKU_gEY52zG7",
        "colab_type": "text"
      },
      "source": [
        "# Checking for NULLs"
      ]
    },
    {
      "cell_type": "code",
      "metadata": {
        "id": "z384sUewtujS",
        "colab_type": "code",
        "colab": {
          "base_uri": "https://localhost:8080/",
          "height": 442
        },
        "outputId": "003ad27e-4c6d-4b63-d69a-059cf04cb1b6"
      },
      "source": [
        "df.isnull().sum()"
      ],
      "execution_count": null,
      "outputs": [
        {
          "output_type": "execute_result",
          "data": {
            "text/plain": [
              "Age                         0\n",
              "Attrition                   0\n",
              "BusinessTravel              0\n",
              "Department                  0\n",
              "DistanceFromHome            0\n",
              "Education                   0\n",
              "EducationField              0\n",
              "EmployeeCount               0\n",
              "EmployeeID                  0\n",
              "Gender                      0\n",
              "JobLevel                    0\n",
              "JobRole                     0\n",
              "MaritalStatus               0\n",
              "MonthlyIncome               0\n",
              "NumCompaniesWorked         19\n",
              "Over18                      0\n",
              "PercentSalaryHike           0\n",
              "StandardHours               0\n",
              "StockOptionLevel            0\n",
              "TotalWorkingYears           9\n",
              "TrainingTimesLastYear       0\n",
              "YearsAtCompany              0\n",
              "YearsSinceLastPromotion     0\n",
              "YearsWithCurrManager        0\n",
              "dtype: int64"
            ]
          },
          "metadata": {
            "tags": []
          },
          "execution_count": 5
        }
      ]
    },
    {
      "cell_type": "markdown",
      "metadata": {
        "id": "x5J9euH827nl",
        "colab_type": "text"
      },
      "source": [
        "# Dropping Null Values"
      ]
    },
    {
      "cell_type": "code",
      "metadata": {
        "id": "5EiP30rWt6sL",
        "colab_type": "code",
        "colab": {}
      },
      "source": [
        "df.dropna(inplace=True)"
      ],
      "execution_count": null,
      "outputs": []
    },
    {
      "cell_type": "markdown",
      "metadata": {
        "id": "NaiLEWG93BZ6",
        "colab_type": "text"
      },
      "source": [
        "# Dropping Duplicates"
      ]
    },
    {
      "cell_type": "code",
      "metadata": {
        "id": "_JmtvUkkuUBi",
        "colab_type": "code",
        "colab": {}
      },
      "source": [
        "df.drop_duplicates(inplace=True)"
      ],
      "execution_count": null,
      "outputs": []
    },
    {
      "cell_type": "markdown",
      "metadata": {
        "id": "CnQJ7aLj4ljw",
        "colab_type": "text"
      },
      "source": [
        "# Describe deatils of Data Frame"
      ]
    },
    {
      "cell_type": "code",
      "metadata": {
        "id": "-RrPEr_Vuj44",
        "colab_type": "code",
        "colab": {
          "base_uri": "https://localhost:8080/",
          "height": 317
        },
        "outputId": "d2f949e5-4402-470e-8910-bf838ed66981"
      },
      "source": [
        "df.describe()"
      ],
      "execution_count": null,
      "outputs": [
        {
          "output_type": "execute_result",
          "data": {
            "text/html": [
              "<div>\n",
              "<style scoped>\n",
              "    .dataframe tbody tr th:only-of-type {\n",
              "        vertical-align: middle;\n",
              "    }\n",
              "\n",
              "    .dataframe tbody tr th {\n",
              "        vertical-align: top;\n",
              "    }\n",
              "\n",
              "    .dataframe thead th {\n",
              "        text-align: right;\n",
              "    }\n",
              "</style>\n",
              "<table border=\"1\" class=\"dataframe\">\n",
              "  <thead>\n",
              "    <tr style=\"text-align: right;\">\n",
              "      <th></th>\n",
              "      <th>Age</th>\n",
              "      <th>DistanceFromHome</th>\n",
              "      <th>Education</th>\n",
              "      <th>EmployeeCount</th>\n",
              "      <th>EmployeeID</th>\n",
              "      <th>JobLevel</th>\n",
              "      <th>MonthlyIncome</th>\n",
              "      <th>NumCompaniesWorked</th>\n",
              "      <th>PercentSalaryHike</th>\n",
              "      <th>StandardHours</th>\n",
              "      <th>StockOptionLevel</th>\n",
              "      <th>TotalWorkingYears</th>\n",
              "      <th>TrainingTimesLastYear</th>\n",
              "      <th>YearsAtCompany</th>\n",
              "      <th>YearsSinceLastPromotion</th>\n",
              "      <th>YearsWithCurrManager</th>\n",
              "    </tr>\n",
              "  </thead>\n",
              "  <tbody>\n",
              "    <tr>\n",
              "      <th>count</th>\n",
              "      <td>4382.000000</td>\n",
              "      <td>4382.000000</td>\n",
              "      <td>4382.000000</td>\n",
              "      <td>4382.0</td>\n",
              "      <td>4382.000000</td>\n",
              "      <td>4382.000000</td>\n",
              "      <td>4382.000000</td>\n",
              "      <td>4382.000000</td>\n",
              "      <td>4382.000000</td>\n",
              "      <td>4382.0</td>\n",
              "      <td>4382.000000</td>\n",
              "      <td>4382.000000</td>\n",
              "      <td>4382.000000</td>\n",
              "      <td>4382.000000</td>\n",
              "      <td>4382.000000</td>\n",
              "      <td>4382.000000</td>\n",
              "    </tr>\n",
              "    <tr>\n",
              "      <th>mean</th>\n",
              "      <td>36.933364</td>\n",
              "      <td>9.198996</td>\n",
              "      <td>2.912369</td>\n",
              "      <td>1.0</td>\n",
              "      <td>2207.804884</td>\n",
              "      <td>2.063898</td>\n",
              "      <td>65061.702419</td>\n",
              "      <td>2.693291</td>\n",
              "      <td>15.210634</td>\n",
              "      <td>8.0</td>\n",
              "      <td>0.794614</td>\n",
              "      <td>11.290278</td>\n",
              "      <td>2.798266</td>\n",
              "      <td>7.010497</td>\n",
              "      <td>2.191693</td>\n",
              "      <td>4.126198</td>\n",
              "    </tr>\n",
              "    <tr>\n",
              "      <th>std</th>\n",
              "      <td>9.137272</td>\n",
              "      <td>8.105396</td>\n",
              "      <td>1.024728</td>\n",
              "      <td>0.0</td>\n",
              "      <td>1271.688783</td>\n",
              "      <td>1.106115</td>\n",
              "      <td>47142.310175</td>\n",
              "      <td>2.497832</td>\n",
              "      <td>3.663007</td>\n",
              "      <td>0.0</td>\n",
              "      <td>0.852397</td>\n",
              "      <td>7.785717</td>\n",
              "      <td>1.289402</td>\n",
              "      <td>6.129351</td>\n",
              "      <td>3.224994</td>\n",
              "      <td>3.569674</td>\n",
              "    </tr>\n",
              "    <tr>\n",
              "      <th>min</th>\n",
              "      <td>18.000000</td>\n",
              "      <td>1.000000</td>\n",
              "      <td>1.000000</td>\n",
              "      <td>1.0</td>\n",
              "      <td>1.000000</td>\n",
              "      <td>1.000000</td>\n",
              "      <td>10090.000000</td>\n",
              "      <td>0.000000</td>\n",
              "      <td>11.000000</td>\n",
              "      <td>8.0</td>\n",
              "      <td>0.000000</td>\n",
              "      <td>0.000000</td>\n",
              "      <td>0.000000</td>\n",
              "      <td>0.000000</td>\n",
              "      <td>0.000000</td>\n",
              "      <td>0.000000</td>\n",
              "    </tr>\n",
              "    <tr>\n",
              "      <th>25%</th>\n",
              "      <td>30.000000</td>\n",
              "      <td>2.000000</td>\n",
              "      <td>2.000000</td>\n",
              "      <td>1.0</td>\n",
              "      <td>1108.250000</td>\n",
              "      <td>1.000000</td>\n",
              "      <td>29110.000000</td>\n",
              "      <td>1.000000</td>\n",
              "      <td>12.000000</td>\n",
              "      <td>8.0</td>\n",
              "      <td>0.000000</td>\n",
              "      <td>6.000000</td>\n",
              "      <td>2.000000</td>\n",
              "      <td>3.000000</td>\n",
              "      <td>0.000000</td>\n",
              "      <td>2.000000</td>\n",
              "    </tr>\n",
              "    <tr>\n",
              "      <th>50%</th>\n",
              "      <td>36.000000</td>\n",
              "      <td>7.000000</td>\n",
              "      <td>3.000000</td>\n",
              "      <td>1.0</td>\n",
              "      <td>2208.500000</td>\n",
              "      <td>2.000000</td>\n",
              "      <td>49190.000000</td>\n",
              "      <td>2.000000</td>\n",
              "      <td>14.000000</td>\n",
              "      <td>8.0</td>\n",
              "      <td>1.000000</td>\n",
              "      <td>10.000000</td>\n",
              "      <td>3.000000</td>\n",
              "      <td>5.000000</td>\n",
              "      <td>1.000000</td>\n",
              "      <td>3.000000</td>\n",
              "    </tr>\n",
              "    <tr>\n",
              "      <th>75%</th>\n",
              "      <td>43.000000</td>\n",
              "      <td>14.000000</td>\n",
              "      <td>4.000000</td>\n",
              "      <td>1.0</td>\n",
              "      <td>3308.750000</td>\n",
              "      <td>3.000000</td>\n",
              "      <td>83790.000000</td>\n",
              "      <td>4.000000</td>\n",
              "      <td>18.000000</td>\n",
              "      <td>8.0</td>\n",
              "      <td>1.000000</td>\n",
              "      <td>15.000000</td>\n",
              "      <td>3.000000</td>\n",
              "      <td>9.000000</td>\n",
              "      <td>3.000000</td>\n",
              "      <td>7.000000</td>\n",
              "    </tr>\n",
              "    <tr>\n",
              "      <th>max</th>\n",
              "      <td>60.000000</td>\n",
              "      <td>29.000000</td>\n",
              "      <td>5.000000</td>\n",
              "      <td>1.0</td>\n",
              "      <td>4409.000000</td>\n",
              "      <td>5.000000</td>\n",
              "      <td>199990.000000</td>\n",
              "      <td>9.000000</td>\n",
              "      <td>25.000000</td>\n",
              "      <td>8.0</td>\n",
              "      <td>3.000000</td>\n",
              "      <td>40.000000</td>\n",
              "      <td>6.000000</td>\n",
              "      <td>40.000000</td>\n",
              "      <td>15.000000</td>\n",
              "      <td>17.000000</td>\n",
              "    </tr>\n",
              "  </tbody>\n",
              "</table>\n",
              "</div>"
            ],
            "text/plain": [
              "               Age  ...  YearsWithCurrManager\n",
              "count  4382.000000  ...           4382.000000\n",
              "mean     36.933364  ...              4.126198\n",
              "std       9.137272  ...              3.569674\n",
              "min      18.000000  ...              0.000000\n",
              "25%      30.000000  ...              2.000000\n",
              "50%      36.000000  ...              3.000000\n",
              "75%      43.000000  ...              7.000000\n",
              "max      60.000000  ...             17.000000\n",
              "\n",
              "[8 rows x 16 columns]"
            ]
          },
          "metadata": {
            "tags": []
          },
          "execution_count": 8
        }
      ]
    },
    {
      "cell_type": "code",
      "metadata": {
        "id": "0UE9HLIdzP2H",
        "colab_type": "code",
        "colab": {
          "base_uri": "https://localhost:8080/",
          "height": 306
        },
        "outputId": "812f049c-75ae-472b-82bf-65d0bf9bb5d6"
      },
      "source": [
        "df.var()"
      ],
      "execution_count": null,
      "outputs": [
        {
          "output_type": "execute_result",
          "data": {
            "text/plain": [
              "Age                        8.348974e+01\n",
              "DistanceFromHome           6.569744e+01\n",
              "Education                  1.050068e+00\n",
              "EmployeeCount              0.000000e+00\n",
              "EmployeeID                 1.617192e+06\n",
              "JobLevel                   1.223490e+00\n",
              "MonthlyIncome              2.222397e+09\n",
              "NumCompaniesWorked         6.239165e+00\n",
              "PercentSalaryHike          1.341762e+01\n",
              "StandardHours              0.000000e+00\n",
              "StockOptionLevel           7.265814e-01\n",
              "TotalWorkingYears          6.061739e+01\n",
              "TrainingTimesLastYear      1.662558e+00\n",
              "YearsAtCompany             3.756894e+01\n",
              "YearsSinceLastPromotion    1.040059e+01\n",
              "YearsWithCurrManager       1.274257e+01\n",
              "dtype: float64"
            ]
          },
          "metadata": {
            "tags": []
          },
          "execution_count": 9
        }
      ]
    },
    {
      "cell_type": "code",
      "metadata": {
        "id": "LBZZ2GmizdZK",
        "colab_type": "code",
        "colab": {
          "base_uri": "https://localhost:8080/",
          "height": 306
        },
        "outputId": "04e2b346-96d7-4dae-cfec-09d7560faf0f"
      },
      "source": [
        "df.skew()"
      ],
      "execution_count": null,
      "outputs": [
        {
          "output_type": "execute_result",
          "data": {
            "text/plain": [
              "Age                        0.413048\n",
              "DistanceFromHome           0.955517\n",
              "Education                 -0.288977\n",
              "EmployeeCount              0.000000\n",
              "EmployeeID                -0.002335\n",
              "JobLevel                   1.021797\n",
              "MonthlyIncome              1.367457\n",
              "NumCompaniesWorked         1.029174\n",
              "PercentSalaryHike          0.819510\n",
              "StandardHours              0.000000\n",
              "StockOptionLevel           0.967263\n",
              "TotalWorkingYears          1.115419\n",
              "TrainingTimesLastYear      0.551818\n",
              "YearsAtCompany             1.764619\n",
              "YearsSinceLastPromotion    1.980992\n",
              "YearsWithCurrManager       0.834277\n",
              "dtype: float64"
            ]
          },
          "metadata": {
            "tags": []
          },
          "execution_count": 10
        }
      ]
    },
    {
      "cell_type": "code",
      "metadata": {
        "id": "4ZPOfrsxzoke",
        "colab_type": "code",
        "colab": {
          "base_uri": "https://localhost:8080/",
          "height": 306
        },
        "outputId": "196f1cd3-9df4-4e75-ce21-f08567869300"
      },
      "source": [
        "df.kurt()"
      ],
      "execution_count": null,
      "outputs": [
        {
          "output_type": "execute_result",
          "data": {
            "text/plain": [
              "Age                       -0.409517\n",
              "DistanceFromHome          -0.230691\n",
              "Education                 -0.565008\n",
              "EmployeeCount              0.000000\n",
              "EmployeeID                -1.198607\n",
              "JobLevel                   0.388189\n",
              "MonthlyIncome              0.990836\n",
              "NumCompaniesWorked         0.014307\n",
              "PercentSalaryHike         -0.306951\n",
              "StandardHours              0.000000\n",
              "StockOptionLevel           0.356755\n",
              "TotalWorkingYears          0.909316\n",
              "TrainingTimesLastYear      0.494215\n",
              "YearsAtCompany             3.930726\n",
              "YearsSinceLastPromotion    3.592162\n",
              "YearsWithCurrManager       0.170703\n",
              "dtype: float64"
            ]
          },
          "metadata": {
            "tags": []
          },
          "execution_count": 11
        }
      ]
    },
    {
      "cell_type": "code",
      "metadata": {
        "id": "7LTFOOY7zzbk",
        "colab_type": "code",
        "colab": {
          "base_uri": "https://localhost:8080/",
          "height": 401
        },
        "outputId": "705eb4ef-52af-47b2-c5d2-5ee700ce47aa"
      },
      "source": [
        "plt.boxplot(df.Age)"
      ],
      "execution_count": null,
      "outputs": [
        {
          "output_type": "execute_result",
          "data": {
            "text/plain": [
              "{'boxes': [<matplotlib.lines.Line2D at 0x7f144057b390>],\n",
              " 'caps': [<matplotlib.lines.Line2D at 0x7f144057bda0>,\n",
              "  <matplotlib.lines.Line2D at 0x7f14405a3160>],\n",
              " 'fliers': [<matplotlib.lines.Line2D at 0x7f14405a3860>],\n",
              " 'means': [],\n",
              " 'medians': [<matplotlib.lines.Line2D at 0x7f14405a34e0>],\n",
              " 'whiskers': [<matplotlib.lines.Line2D at 0x7f144057b6a0>,\n",
              "  <matplotlib.lines.Line2D at 0x7f144057ba20>]}"
            ]
          },
          "metadata": {
            "tags": []
          },
          "execution_count": 12
        },
        {
          "output_type": "display_data",
          "data": {
            "image/png": "[encoded data removed]",
            "text/plain": [
              "<Figure size 432x288 with 1 Axes>"
            ]
          },
          "metadata": {
            "tags": [],
            "needs_background": "light"
          }
        }
      ]
    },
    {
      "cell_type": "code",
      "metadata": {
        "id": "Vc5X3K6W0XuC",
        "colab_type": "code",
        "colab": {
          "base_uri": "https://localhost:8080/",
          "height": 401
        },
        "outputId": "45d30c96-742b-45b8-9a81-8c4995d6c996"
      },
      "source": [
        "plt.boxplot(df.MonthlyIncome)"
      ],
      "execution_count": null,
      "outputs": [
        {
          "output_type": "execute_result",
          "data": {
            "text/plain": [
              "{'boxes': [<matplotlib.lines.Line2D at 0x7f14404bcc88>],\n",
              " 'caps': [<matplotlib.lines.Line2D at 0x7f14404de6d8>,\n",
              "  <matplotlib.lines.Line2D at 0x7f14404dea58>],\n",
              " 'fliers': [<matplotlib.lines.Line2D at 0x7f144001d198>],\n",
              " 'means': [],\n",
              " 'medians': [<matplotlib.lines.Line2D at 0x7f14404dedd8>],\n",
              " 'whiskers': [<matplotlib.lines.Line2D at 0x7f14404bcf98>,\n",
              "  <matplotlib.lines.Line2D at 0x7f14404de358>]}"
            ]
          },
          "metadata": {
            "tags": []
          },
          "execution_count": 13
        },
        {
          "output_type": "display_data",
          "data": {
            "image/png": "[encoded data removed]",
            "text/plain": [
              "<Figure size 432x288 with 1 Axes>"
            ]
          },
          "metadata": {
            "tags": [],
            "needs_background": "light"
          }
        }
      ]
    },
    {
      "cell_type": "code",
      "metadata": {
        "id": "qsPBortu0xX6",
        "colab_type": "code",
        "colab": {
          "base_uri": "https://localhost:8080/",
          "height": 401
        },
        "outputId": "33f66874-9dbe-407f-fc3f-3c347e69de6f"
      },
      "source": [
        "plt.boxplot(df.YearsAtCompany)"
      ],
      "execution_count": null,
      "outputs": [
        {
          "output_type": "execute_result",
          "data": {
            "text/plain": [
              "{'boxes': [<matplotlib.lines.Line2D at 0x7f143fff4b00>],\n",
              " 'caps': [<matplotlib.lines.Line2D at 0x7f1440000550>,\n",
              "  <matplotlib.lines.Line2D at 0x7f14400008d0>],\n",
              " 'fliers': [<matplotlib.lines.Line2D at 0x7f1440000fd0>],\n",
              " 'means': [],\n",
              " 'medians': [<matplotlib.lines.Line2D at 0x7f1440000c50>],\n",
              " 'whiskers': [<matplotlib.lines.Line2D at 0x7f143fff4e10>,\n",
              "  <matplotlib.lines.Line2D at 0x7f14400001d0>]}"
            ]
          },
          "metadata": {
            "tags": []
          },
          "execution_count": 14
        },
        {
          "output_type": "display_data",
          "data": {
            "image/png": "[encoded data removed]",
            "text/plain": [
              "<Figure size 432x288 with 1 Axes>"
            ]
          },
          "metadata": {
            "tags": [],
            "needs_background": "light"
          }
        }
      ]
    },
    {
      "cell_type": "code",
      "metadata": {
        "id": "08c7Y3vplMjG",
        "colab_type": "code",
        "colab": {}
      },
      "source": [
        "df['Attrition'].replace(to_replace = ('No','Yes'),value = (0,1),inplace = True)"
      ],
      "execution_count": null,
      "outputs": []
    },
    {
      "cell_type": "markdown",
      "metadata": {
        "id": "eCBg7yMKmMcx",
        "colab_type": "text"
      },
      "source": [
        "# Hypothesis\n",
        "\n",
        "### Hypothesis -1\n",
        "\n",
        "The employee with average age of 35, has more attrition.\n",
        "\n",
        "Null Hypothesis\n",
        "\n",
        "Age and Attrition have no attrition\n",
        "\n",
        "Alternative Hypothesis\n",
        "\n",
        "Age and Attrition have correalation"
      ]
    },
    {
      "cell_type": "code",
      "metadata": {
        "id": "YcQwoMfcn2rm",
        "colab_type": "code",
        "colab": {
          "base_uri": "https://localhost:8080/",
          "height": 34
        },
        "outputId": "0efd8af4-5d5b-4935-ecc9-59c6a26f72a7"
      },
      "source": [
        "stats,p = pearsonr(df['Attrition'], df['Age'])\n",
        "print(stats, p)"
      ],
      "execution_count": null,
      "outputs": [
        {
          "output_type": "stream",
          "text": [
            "-0.1583986795409671 5.1265982193780794e-26\n"
          ],
          "name": "stdout"
        }
      ]
    },
    {
      "cell_type": "markdown",
      "metadata": {
        "id": "nSy4D2wgogXk",
        "colab_type": "text"
      },
      "source": [
        "r = -0.1583986795409671\n",
        "\n",
        "p = 5.1265982193780794e-26\n",
        "\n",
        "r is negative and p<0.05. So Null Hypothesis (H0) is rejected and negative correlation between attrition and age."
      ]
    },
    {
      "cell_type": "markdown",
      "metadata": {
        "id": "q7OIW8g7o5AQ",
        "colab_type": "text"
      },
      "source": [
        "### Hypothesis 2\n",
        "\n",
        "The attrition based on all the category of education.\n",
        "\n",
        "Null Hypothesis\n",
        "\n",
        "Education and Attrition have correlation\n",
        "\n",
        "Alternative Hypothesis\n",
        "\n",
        "Education and Attrition have no correlation"
      ]
    },
    {
      "cell_type": "code",
      "metadata": {
        "id": "nA7hhwu5oNGl",
        "colab_type": "code",
        "colab": {
          "base_uri": "https://localhost:8080/",
          "height": 34
        },
        "outputId": "411b2248-0f21-411c-fba9-ca4f504e9d53"
      },
      "source": [
        "stats, p = pearsonr(df['Attrition'], df['Education'])\n",
        "print(stats,p)"
      ],
      "execution_count": null,
      "outputs": [
        {
          "output_type": "stream",
          "text": [
            "-0.01710630705027876 0.25757539308157945\n"
          ],
          "name": "stdout"
        }
      ]
    },
    {
      "cell_type": "markdown",
      "metadata": {
        "id": "GuKar2tmp3_j",
        "colab_type": "text"
      },
      "source": [
        "r = -0.01710630705027876\n",
        "\n",
        "p = 0.25757539308157945\n",
        "\n",
        "r is negative and p>0.05. So Null hypothesis is accepted and negative correlation between attrition and eduction."
      ]
    },
    {
      "cell_type": "markdown",
      "metadata": {
        "id": "AfjzTyQlqQ5_",
        "colab_type": "text"
      },
      "source": [
        "### Hypothesis 3\n",
        "\n",
        "Attrition and Distance from home is having no correlation.\n",
        "\n",
        "Null Hypothesis\n",
        "\n",
        "Attrition and Distance from home is havinf no correlation\n",
        "\n",
        "Alternative Hypothesis\n",
        "\n",
        "Attrition and distance from home is having correlation\n",
        "\n"
      ]
    },
    {
      "cell_type": "code",
      "metadata": {
        "id": "bsLdwcErrGEC",
        "colab_type": "code",
        "colab": {
          "base_uri": "https://localhost:8080/",
          "height": 34
        },
        "outputId": "961ac4aa-941f-4b64-c2d7-c1d5e989c651"
      },
      "source": [
        "stats,p = pearsonr(df['Attrition'], df['DistanceFromHome'])\n",
        "print(stats,p)"
      ],
      "execution_count": null,
      "outputs": [
        {
          "output_type": "stream",
          "text": [
            "-0.009448638515156291 0.5317715668018396\n"
          ],
          "name": "stdout"
        }
      ]
    },
    {
      "cell_type": "markdown",
      "metadata": {
        "id": "ZCJcdAM2rSLs",
        "colab_type": "text"
      },
      "source": [
        "r = -0.009448638515156291\n",
        "\n",
        "p = 0.5317715668018396\n",
        "\n",
        "As r is negative and p<0.05. So null hypothesis is rejected and we find the there is a negative correlation between attrition and age."
      ]
    },
    {
      "cell_type": "markdown",
      "metadata": {
        "id": "cqxC7pidw_X6",
        "colab_type": "text"
      },
      "source": [
        "### Hypothesis 4\n",
        "\n",
        "The employee, who are working with current manager more than 2.5 years\n",
        "\n",
        "Null Hypothesis\n",
        "\n",
        "Year With Curr Manager and Attrition have no correlation\n",
        "\n",
        "Alternative Hypothesis\n",
        "\n",
        "YearsWith Curr Manager and Attrition have correlation."
      ]
    },
    {
      "cell_type": "code",
      "metadata": {
        "id": "1-uOlHTBxitF",
        "colab_type": "code",
        "colab": {
          "base_uri": "https://localhost:8080/",
          "height": 34
        },
        "outputId": "207f7fdc-2b45-43d3-f67b-3572c54b7923"
      },
      "source": [
        "stats,p = pearsonr(df['Attrition'],df['YearsWithCurrManager'])\n",
        "print(stats,p)"
      ],
      "execution_count": 25,
      "outputs": [
        {
          "output_type": "stream",
          "text": [
            "-0.15469153690287285 7.105369646772844e-25\n"
          ],
          "name": "stdout"
        }
      ]
    },
    {
      "cell_type": "markdown",
      "metadata": {
        "id": "IitVS8Aix8PR",
        "colab_type": "text"
      },
      "source": [
        "r = -0.15469153690287285\n",
        "\n",
        "p = 7.105369646772844e-25\n",
        "\n",
        "r is negative and p<0.05, so Null Hypothesis is rejected and negative correlation between attrition and years with curr Manager."
      ]
    },
    {
      "cell_type": "markdown",
      "metadata": {
        "id": "JZq_tDutyWif",
        "colab_type": "text"
      },
      "source": [
        "### Hypothesis 5\n",
        "\n",
        "If the emplyee has more than one years of exprince, after promotion has less atrrition\n",
        "\n",
        "Null Hypothesis\n",
        "\n",
        "YearsSinceLastPromotion and Attrition have no correlation\n",
        "\n",
        "Alternative Hypothesis\n",
        "\n",
        "YearsSinceLastPromotion and Attrition have correlation\n"
      ]
    },
    {
      "cell_type": "code",
      "metadata": {
        "id": "oQKfdCy7zYea",
        "colab_type": "code",
        "colab": {
          "base_uri": "https://localhost:8080/",
          "height": 34
        },
        "outputId": "774e3852-7d02-4b87-a7ae-84f39ad88730"
      },
      "source": [
        "stats,p = pearsonr(df['Attrition'], df['YearsSinceLastPromotion'])\n",
        "print(stats,p)"
      ],
      "execution_count": 26,
      "outputs": [
        {
          "output_type": "stream",
          "text": [
            "-0.03142315056330998 0.03752293607394324\n"
          ],
          "name": "stdout"
        }
      ]
    },
    {
      "cell_type": "markdown",
      "metadata": {
        "id": "zDa2ILuxzo2U",
        "colab_type": "text"
      },
      "source": [
        "r = -0.03142315056330998\n",
        "\n",
        "p = 0.03752293607394324\n",
        "\n",
        "r is negative and p<0.05. So Null Hypothesis is rejected.\n",
        "\n",
        "Negative correlation between attrition and Years Since Last Promotion."
      ]
    },
    {
      "cell_type": "markdown",
      "metadata": {
        "id": "lJoWFltG0CQL",
        "colab_type": "text"
      },
      "source": [
        "### Hypothesis 6\n",
        "\n",
        "The employee who worked more than 5 years have high attrition rate\n",
        "\n",
        "Null Hypothesis\n",
        "\n",
        "Years At Company and Attrition have no correlation\n",
        "\n",
        "Alternative Hypothesis\n",
        "\n",
        "Years at company and Attrition have correlation"
      ]
    },
    {
      "cell_type": "code",
      "metadata": {
        "id": "LNjDUcCb0jel",
        "colab_type": "code",
        "colab": {
          "base_uri": "https://localhost:8080/",
          "height": 34
        },
        "outputId": "5298f31f-8bbd-438e-c6c2-4259d108fe2e"
      },
      "source": [
        "stats,p = pearsonr(df['Attrition'], df['YearsAtCompany'])\n",
        "print(stats,p)"
      ],
      "execution_count": 27,
      "outputs": [
        {
          "output_type": "stream",
          "text": [
            "-0.13300261842521535 9.476118084840815e-19\n"
          ],
          "name": "stdout"
        }
      ]
    },
    {
      "cell_type": "markdown",
      "metadata": {
        "id": "EuH5GRLi02qy",
        "colab_type": "text"
      },
      "source": [
        "r = -0.13300261842521535\n",
        "\n",
        "p = 9.476118084840815e-19\n",
        "\n",
        "r is negative and p<0.05. so Null Hypothesis is rejected and negative correlation between attrition and Years At Company."
      ]
    },
    {
      "cell_type": "markdown",
      "metadata": {
        "id": "Bmi0HIX_1N8a",
        "colab_type": "text"
      },
      "source": [
        "### Hypothesis 7\n",
        "\n",
        "The employee, who are getting less than or equal to 13% has more attrition.\n",
        "\n",
        "Null Hypothesis\n",
        "\n",
        "Precent Salary Hike and Attrition have no correlation\n",
        "\n",
        "Alternative Hypothesis\n",
        "\n",
        "Percent Salary Hike and Attrition have correlation\n"
      ]
    },
    {
      "cell_type": "code",
      "metadata": {
        "id": "FkzjfgcZ1myw",
        "colab_type": "code",
        "colab": {
          "base_uri": "https://localhost:8080/",
          "height": 34
        },
        "outputId": "13ce2cf9-d9c8-4e2b-b8a2-1e6b25e02244"
      },
      "source": [
        "stats,p = pearsonr(df['Attrition'], df['PercentSalaryHike'])\n",
        "print(stats,p)"
      ],
      "execution_count": 28,
      "outputs": [
        {
          "output_type": "stream",
          "text": [
            "0.033153037135466544 0.028192446935112747\n"
          ],
          "name": "stdout"
        }
      ]
    },
    {
      "cell_type": "markdown",
      "metadata": {
        "id": "9uA9eN7K1yuL",
        "colab_type": "text"
      },
      "source": [
        "r = 0.033153037135466544\n",
        "\n",
        "p = 0.028192446935112747\n",
        "\n",
        "r is postive and p<0.05. So Null Hypothesis is rejected and positive correlation between attrition and Precent Salary Hike."
      ]
    },
    {
      "cell_type": "markdown",
      "metadata": {
        "id": "IIWhA9LN2LJC",
        "colab_type": "text"
      },
      "source": [
        "### Hypothesis 8\n",
        "\n",
        "Eployee having Joblevel less than or equal to 2 have hight attrition rate\n",
        "\n",
        "Null Hypothesis\n",
        "\n",
        "Joblevel and Attrition have correlation\n",
        "\n",
        "Alternative Hypothesis\n",
        "\n",
        "Joblevel and Attrition have no correlation"
      ]
    },
    {
      "cell_type": "code",
      "metadata": {
        "id": "eySLuN2G2jn0",
        "colab_type": "code",
        "colab": {
          "base_uri": "https://localhost:8080/",
          "height": 34
        },
        "outputId": "2886eb54-6600-4407-b5ae-fd3c6f0e6959"
      },
      "source": [
        "stats,p = pearsonr(df['Attrition'], df['JobLevel'])\n",
        "print(stats,p)"
      ],
      "execution_count": 29,
      "outputs": [
        {
          "output_type": "stream",
          "text": [
            "-0.012381569720790884 0.4125489150380087\n"
          ],
          "name": "stdout"
        }
      ]
    },
    {
      "cell_type": "markdown",
      "metadata": {
        "id": "DdrCTK1H3KD7",
        "colab_type": "text"
      },
      "source": [
        "r = -0.012381569720790884\n",
        "\n",
        "p = 0.4125489150380087\n",
        "\n",
        "r is negative and p>0.05. So Null hypothesis is accepted and negative correlation between attrition and JobLevel."
      ]
    },
    {
      "cell_type": "code",
      "metadata": {
        "id": "OR0r47CRq22t",
        "colab_type": "code",
        "colab": {
          "base_uri": "https://localhost:8080/",
          "height": 464
        },
        "outputId": "a28f77e7-b84d-414f-c7b6-12167ea9914a"
      },
      "source": [
        "corr = df.corr()\n",
        "corr.style.background_gradient(cmap='coolwarm')"
      ],
      "execution_count": null,
      "outputs": [
        {
          "output_type": "stream",
          "text": [
            "/usr/local/lib/python3.6/dist-packages/pandas/io/formats/style.py:1089: RuntimeWarning: All-NaN slice encountered\n",
            "  smin = np.nanmin(s.to_numpy()) if vmin is None else vmin\n",
            "/usr/local/lib/python3.6/dist-packages/pandas/io/formats/style.py:1090: RuntimeWarning: All-NaN slice encountered\n",
            "  smax = np.nanmax(s.to_numpy()) if vmax is None else vmax\n"
          ],
          "name": "stderr"
        },
        {
          "output_type": "execute_result",
          "data": {
            "text/html": [
              "<style  type=\"text/css\" >\n",
              "    #T_f0c9a760_c9cd_11ea_a31c_0242ac1c0002row0_col0 {\n",
              "            background-color:  #b40426;\n",
              "            color:  #f1f1f1;\n",
              "        }    #T_f0c9a760_c9cd_11ea_a31c_0242ac1c0002row0_col1 {\n",
              "            background-color:  #485fd1;\n",
              "            color:  #f1f1f1;\n",
              "        }    #T_f0c9a760_c9cd_11ea_a31c_0242ac1c0002row0_col2 {\n",
              "            background-color:  #3c4ec2;\n",
              "            color:  #f1f1f1;\n",
              "        }    #T_f0c9a760_c9cd_11ea_a31c_0242ac1c0002row0_col3 {\n",
              "            background-color:  #000000;\n",
              "            color:  #f1f1f1;\n",
              "        }    #T_f0c9a760_c9cd_11ea_a31c_0242ac1c0002row0_col4 {\n",
              "            background-color:  #4055c8;\n",
              "            color:  #f1f1f1;\n",
              "        }    #T_f0c9a760_c9cd_11ea_a31c_0242ac1c0002row0_col5 {\n",
              "            background-color:  #4b64d5;\n",
              "            color:  #f1f1f1;\n",
              "        }    #T_f0c9a760_c9cd_11ea_a31c_0242ac1c0002row0_col6 {\n",
              "            background-color:  #3b4cc0;\n",
              "            color:  #f1f1f1;\n",
              "        }    #T_f0c9a760_c9cd_11ea_a31c_0242ac1c0002row0_col7 {\n",
              "            background-color:  #b7cff9;\n",
              "            color:  #000000;\n",
              "        }    #T_f0c9a760_c9cd_11ea_a31c_0242ac1c0002row0_col8 {\n",
              "            background-color:  #3d50c3;\n",
              "            color:  #f1f1f1;\n",
              "        }    #T_f0c9a760_c9cd_11ea_a31c_0242ac1c0002row0_col9 {\n",
              "            background-color:  #000000;\n",
              "            color:  #f1f1f1;\n",
              "        }    #T_f0c9a760_c9cd_11ea_a31c_0242ac1c0002row0_col10 {\n",
              "            background-color:  #445acc;\n",
              "            color:  #f1f1f1;\n",
              "        }    #T_f0c9a760_c9cd_11ea_a31c_0242ac1c0002row0_col11 {\n",
              "            background-color:  #f7af91;\n",
              "            color:  #000000;\n",
              "        }    #T_f0c9a760_c9cd_11ea_a31c_0242ac1c0002row0_col12 {\n",
              "            background-color:  #455cce;\n",
              "            color:  #f1f1f1;\n",
              "        }    #T_f0c9a760_c9cd_11ea_a31c_0242ac1c0002row0_col13 {\n",
              "            background-color:  #bbd1f8;\n",
              "            color:  #000000;\n",
              "        }    #T_f0c9a760_c9cd_11ea_a31c_0242ac1c0002row0_col14 {\n",
              "            background-color:  #90b2fe;\n",
              "            color:  #000000;\n",
              "        }    #T_f0c9a760_c9cd_11ea_a31c_0242ac1c0002row0_col15 {\n",
              "            background-color:  #97b8ff;\n",
              "            color:  #000000;\n",
              "        }    #T_f0c9a760_c9cd_11ea_a31c_0242ac1c0002row1_col0 {\n",
              "            background-color:  #4961d2;\n",
              "            color:  #f1f1f1;\n",
              "        }    #T_f0c9a760_c9cd_11ea_a31c_0242ac1c0002row1_col1 {\n",
              "            background-color:  #b40426;\n",
              "            color:  #f1f1f1;\n",
              "        }    #T_f0c9a760_c9cd_11ea_a31c_0242ac1c0002row1_col2 {\n",
              "            background-color:  #445acc;\n",
              "            color:  #f1f1f1;\n",
              "        }    #T_f0c9a760_c9cd_11ea_a31c_0242ac1c0002row1_col3 {\n",
              "            background-color:  #000000;\n",
              "            color:  #f1f1f1;\n",
              "        }    #T_f0c9a760_c9cd_11ea_a31c_0242ac1c0002row1_col4 {\n",
              "            background-color:  #3e51c5;\n",
              "            color:  #f1f1f1;\n",
              "        }    #T_f0c9a760_c9cd_11ea_a31c_0242ac1c0002row1_col5 {\n",
              "            background-color:  #4055c8;\n",
              "            color:  #f1f1f1;\n",
              "        }    #T_f0c9a760_c9cd_11ea_a31c_0242ac1c0002row1_col6 {\n",
              "            background-color:  #4055c8;\n",
              "            color:  #f1f1f1;\n",
              "        }    #T_f0c9a760_c9cd_11ea_a31c_0242ac1c0002row1_col7 {\n",
              "            background-color:  #5673e0;\n",
              "            color:  #000000;\n",
              "        }    #T_f0c9a760_c9cd_11ea_a31c_0242ac1c0002row1_col8 {\n",
              "            background-color:  #516ddb;\n",
              "            color:  #000000;\n",
              "        }    #T_f0c9a760_c9cd_11ea_a31c_0242ac1c0002row1_col9 {\n",
              "            background-color:  #000000;\n",
              "            color:  #f1f1f1;\n",
              "        }    #T_f0c9a760_c9cd_11ea_a31c_0242ac1c0002row1_col10 {\n",
              "            background-color:  #506bda;\n",
              "            color:  #000000;\n",
              "        }    #T_f0c9a760_c9cd_11ea_a31c_0242ac1c0002row1_col11 {\n",
              "            background-color:  #4961d2;\n",
              "            color:  #f1f1f1;\n",
              "        }    #T_f0c9a760_c9cd_11ea_a31c_0242ac1c0002row1_col12 {\n",
              "            background-color:  #4b64d5;\n",
              "            color:  #f1f1f1;\n",
              "        }    #T_f0c9a760_c9cd_11ea_a31c_0242ac1c0002row1_col13 {\n",
              "            background-color:  #6384eb;\n",
              "            color:  #000000;\n",
              "        }    #T_f0c9a760_c9cd_11ea_a31c_0242ac1c0002row1_col14 {\n",
              "            background-color:  #4b64d5;\n",
              "            color:  #f1f1f1;\n",
              "        }    #T_f0c9a760_c9cd_11ea_a31c_0242ac1c0002row1_col15 {\n",
              "            background-color:  #5f7fe8;\n",
              "            color:  #000000;\n",
              "        }    #T_f0c9a760_c9cd_11ea_a31c_0242ac1c0002row2_col0 {\n",
              "            background-color:  #3d50c3;\n",
              "            color:  #f1f1f1;\n",
              "        }    #T_f0c9a760_c9cd_11ea_a31c_0242ac1c0002row2_col1 {\n",
              "            background-color:  #4358cb;\n",
              "            color:  #f1f1f1;\n",
              "        }    #T_f0c9a760_c9cd_11ea_a31c_0242ac1c0002row2_col2 {\n",
              "            background-color:  #b40426;\n",
              "            color:  #f1f1f1;\n",
              "        }    #T_f0c9a760_c9cd_11ea_a31c_0242ac1c0002row2_col3 {\n",
              "            background-color:  #000000;\n",
              "            color:  #f1f1f1;\n",
              "        }    #T_f0c9a760_c9cd_11ea_a31c_0242ac1c0002row2_col4 {\n",
              "            background-color:  #3c4ec2;\n",
              "            color:  #f1f1f1;\n",
              "        }    #T_f0c9a760_c9cd_11ea_a31c_0242ac1c0002row2_col5 {\n",
              "            background-color:  #5a78e4;\n",
              "            color:  #000000;\n",
              "        }    #T_f0c9a760_c9cd_11ea_a31c_0242ac1c0002row2_col6 {\n",
              "            background-color:  #4961d2;\n",
              "            color:  #f1f1f1;\n",
              "        }    #T_f0c9a760_c9cd_11ea_a31c_0242ac1c0002row2_col7 {\n",
              "            background-color:  #5673e0;\n",
              "            color:  #000000;\n",
              "        }    #T_f0c9a760_c9cd_11ea_a31c_0242ac1c0002row2_col8 {\n",
              "            background-color:  #3b4cc0;\n",
              "            color:  #f1f1f1;\n",
              "        }    #T_f0c9a760_c9cd_11ea_a31c_0242ac1c0002row2_col9 {\n",
              "            background-color:  #000000;\n",
              "            color:  #f1f1f1;\n",
              "        }    #T_f0c9a760_c9cd_11ea_a31c_0242ac1c0002row2_col10 {\n",
              "            background-color:  #4e68d8;\n",
              "            color:  #000000;\n",
              "        }    #T_f0c9a760_c9cd_11ea_a31c_0242ac1c0002row2_col11 {\n",
              "            background-color:  #4358cb;\n",
              "            color:  #f1f1f1;\n",
              "        }    #T_f0c9a760_c9cd_11ea_a31c_0242ac1c0002row2_col12 {\n",
              "            background-color:  #506bda;\n",
              "            color:  #000000;\n",
              "        }    #T_f0c9a760_c9cd_11ea_a31c_0242ac1c0002row2_col13 {\n",
              "            background-color:  #5d7ce6;\n",
              "            color:  #000000;\n",
              "        }    #T_f0c9a760_c9cd_11ea_a31c_0242ac1c0002row2_col14 {\n",
              "            background-color:  #536edd;\n",
              "            color:  #000000;\n",
              "        }    #T_f0c9a760_c9cd_11ea_a31c_0242ac1c0002row2_col15 {\n",
              "            background-color:  #5a78e4;\n",
              "            color:  #000000;\n",
              "        }    #T_f0c9a760_c9cd_11ea_a31c_0242ac1c0002row3_col0 {\n",
              "            background-color:  #000000;\n",
              "            color:  #f1f1f1;\n",
              "        }    #T_f0c9a760_c9cd_11ea_a31c_0242ac1c0002row3_col1 {\n",
              "            background-color:  #000000;\n",
              "            color:  #f1f1f1;\n",
              "        }    #T_f0c9a760_c9cd_11ea_a31c_0242ac1c0002row3_col2 {\n",
              "            background-color:  #000000;\n",
              "            color:  #f1f1f1;\n",
              "        }    #T_f0c9a760_c9cd_11ea_a31c_0242ac1c0002row3_col3 {\n",
              "            background-color:  #000000;\n",
              "            color:  #f1f1f1;\n",
              "        }    #T_f0c9a760_c9cd_11ea_a31c_0242ac1c0002row3_col4 {\n",
              "            background-color:  #000000;\n",
              "            color:  #f1f1f1;\n",
              "        }    #T_f0c9a760_c9cd_11ea_a31c_0242ac1c0002row3_col5 {\n",
              "            background-color:  #000000;\n",
              "            color:  #f1f1f1;\n",
              "        }    #T_f0c9a760_c9cd_11ea_a31c_0242ac1c0002row3_col6 {\n",
              "            background-color:  #000000;\n",
              "            color:  #f1f1f1;\n",
              "        }    #T_f0c9a760_c9cd_11ea_a31c_0242ac1c0002row3_col7 {\n",
              "            background-color:  #000000;\n",
              "            color:  #f1f1f1;\n",
              "        }    #T_f0c9a760_c9cd_11ea_a31c_0242ac1c0002row3_col8 {\n",
              "            background-color:  #000000;\n",
              "            color:  #f1f1f1;\n",
              "        }    #T_f0c9a760_c9cd_11ea_a31c_0242ac1c0002row3_col9 {\n",
              "            background-color:  #000000;\n",
              "            color:  #f1f1f1;\n",
              "        }    #T_f0c9a760_c9cd_11ea_a31c_0242ac1c0002row3_col10 {\n",
              "            background-color:  #000000;\n",
              "            color:  #f1f1f1;\n",
              "        }    #T_f0c9a760_c9cd_11ea_a31c_0242ac1c0002row3_col11 {\n",
              "            background-color:  #000000;\n",
              "            color:  #f1f1f1;\n",
              "        }    #T_f0c9a760_c9cd_11ea_a31c_0242ac1c0002row3_col12 {\n",
              "            background-color:  #000000;\n",
              "            color:  #f1f1f1;\n",
              "        }    #T_f0c9a760_c9cd_11ea_a31c_0242ac1c0002row3_col13 {\n",
              "            background-color:  #000000;\n",
              "            color:  #f1f1f1;\n",
              "        }    #T_f0c9a760_c9cd_11ea_a31c_0242ac1c0002row3_col14 {\n",
              "            background-color:  #000000;\n",
              "            color:  #f1f1f1;\n",
              "        }    #T_f0c9a760_c9cd_11ea_a31c_0242ac1c0002row3_col15 {\n",
              "            background-color:  #000000;\n",
              "            color:  #f1f1f1;\n",
              "        }    #T_f0c9a760_c9cd_11ea_a31c_0242ac1c0002row4_col0 {\n",
              "            background-color:  #4a63d3;\n",
              "            color:  #f1f1f1;\n",
              "        }    #T_f0c9a760_c9cd_11ea_a31c_0242ac1c0002row4_col1 {\n",
              "            background-color:  #455cce;\n",
              "            color:  #f1f1f1;\n",
              "        }    #T_f0c9a760_c9cd_11ea_a31c_0242ac1c0002row4_col2 {\n",
              "            background-color:  #4358cb;\n",
              "            color:  #f1f1f1;\n",
              "        }    #T_f0c9a760_c9cd_11ea_a31c_0242ac1c0002row4_col3 {\n",
              "            background-color:  #000000;\n",
              "            color:  #f1f1f1;\n",
              "        }    #T_f0c9a760_c9cd_11ea_a31c_0242ac1c0002row4_col4 {\n",
              "            background-color:  #b40426;\n",
              "            color:  #f1f1f1;\n",
              "        }    #T_f0c9a760_c9cd_11ea_a31c_0242ac1c0002row4_col5 {\n",
              "            background-color:  #4b64d5;\n",
              "            color:  #f1f1f1;\n",
              "        }    #T_f0c9a760_c9cd_11ea_a31c_0242ac1c0002row4_col6 {\n",
              "            background-color:  #4961d2;\n",
              "            color:  #f1f1f1;\n",
              "        }    #T_f0c9a760_c9cd_11ea_a31c_0242ac1c0002row4_col7 {\n",
              "            background-color:  #5b7ae5;\n",
              "            color:  #000000;\n",
              "        }    #T_f0c9a760_c9cd_11ea_a31c_0242ac1c0002row4_col8 {\n",
              "            background-color:  #445acc;\n",
              "            color:  #f1f1f1;\n",
              "        }    #T_f0c9a760_c9cd_11ea_a31c_0242ac1c0002row4_col9 {\n",
              "            background-color:  #000000;\n",
              "            color:  #f1f1f1;\n",
              "        }    #T_f0c9a760_c9cd_11ea_a31c_0242ac1c0002row4_col10 {\n",
              "            background-color:  #4a63d3;\n",
              "            color:  #f1f1f1;\n",
              "        }    #T_f0c9a760_c9cd_11ea_a31c_0242ac1c0002row4_col11 {\n",
              "            background-color:  #455cce;\n",
              "            color:  #f1f1f1;\n",
              "        }    #T_f0c9a760_c9cd_11ea_a31c_0242ac1c0002row4_col12 {\n",
              "            background-color:  #4a63d3;\n",
              "            color:  #f1f1f1;\n",
              "        }    #T_f0c9a760_c9cd_11ea_a31c_0242ac1c0002row4_col13 {\n",
              "            background-color:  #5b7ae5;\n",
              "            color:  #000000;\n",
              "        }    #T_f0c9a760_c9cd_11ea_a31c_0242ac1c0002row4_col14 {\n",
              "            background-color:  #4b64d5;\n",
              "            color:  #f1f1f1;\n",
              "        }    #T_f0c9a760_c9cd_11ea_a31c_0242ac1c0002row4_col15 {\n",
              "            background-color:  #5b7ae5;\n",
              "            color:  #000000;\n",
              "        }    #T_f0c9a760_c9cd_11ea_a31c_0242ac1c0002row5_col0 {\n",
              "            background-color:  #465ecf;\n",
              "            color:  #f1f1f1;\n",
              "        }    #T_f0c9a760_c9cd_11ea_a31c_0242ac1c0002row5_col1 {\n",
              "            background-color:  #3b4cc0;\n",
              "            color:  #f1f1f1;\n",
              "        }    #T_f0c9a760_c9cd_11ea_a31c_0242ac1c0002row5_col2 {\n",
              "            background-color:  #5470de;\n",
              "            color:  #000000;\n",
              "        }    #T_f0c9a760_c9cd_11ea_a31c_0242ac1c0002row5_col3 {\n",
              "            background-color:  #000000;\n",
              "            color:  #f1f1f1;\n",
              "        }    #T_f0c9a760_c9cd_11ea_a31c_0242ac1c0002row5_col4 {\n",
              "            background-color:  #3d50c3;\n",
              "            color:  #f1f1f1;\n",
              "        }    #T_f0c9a760_c9cd_11ea_a31c_0242ac1c0002row5_col5 {\n",
              "            background-color:  #b40426;\n",
              "            color:  #f1f1f1;\n",
              "        }    #T_f0c9a760_c9cd_11ea_a31c_0242ac1c0002row5_col6 {\n",
              "            background-color:  #5572df;\n",
              "            color:  #000000;\n",
              "        }    #T_f0c9a760_c9cd_11ea_a31c_0242ac1c0002row5_col7 {\n",
              "            background-color:  #5875e1;\n",
              "            color:  #000000;\n",
              "        }    #T_f0c9a760_c9cd_11ea_a31c_0242ac1c0002row5_col8 {\n",
              "            background-color:  #4961d2;\n",
              "            color:  #f1f1f1;\n",
              "        }    #T_f0c9a760_c9cd_11ea_a31c_0242ac1c0002row5_col9 {\n",
              "            background-color:  #000000;\n",
              "            color:  #f1f1f1;\n",
              "        }    #T_f0c9a760_c9cd_11ea_a31c_0242ac1c0002row5_col10 {\n",
              "            background-color:  #4e68d8;\n",
              "            color:  #000000;\n",
              "        }    #T_f0c9a760_c9cd_11ea_a31c_0242ac1c0002row5_col11 {\n",
              "            background-color:  #3c4ec2;\n",
              "            color:  #f1f1f1;\n",
              "        }    #T_f0c9a760_c9cd_11ea_a31c_0242ac1c0002row5_col12 {\n",
              "            background-color:  #445acc;\n",
              "            color:  #f1f1f1;\n",
              "        }    #T_f0c9a760_c9cd_11ea_a31c_0242ac1c0002row5_col13 {\n",
              "            background-color:  #4961d2;\n",
              "            color:  #f1f1f1;\n",
              "        }    #T_f0c9a760_c9cd_11ea_a31c_0242ac1c0002row5_col14 {\n",
              "            background-color:  #3b4cc0;\n",
              "            color:  #f1f1f1;\n",
              "        }    #T_f0c9a760_c9cd_11ea_a31c_0242ac1c0002row5_col15 {\n",
              "            background-color:  #4961d2;\n",
              "            color:  #f1f1f1;\n",
              "        }    #T_f0c9a760_c9cd_11ea_a31c_0242ac1c0002row6_col0 {\n",
              "            background-color:  #3b4cc0;\n",
              "            color:  #f1f1f1;\n",
              "        }    #T_f0c9a760_c9cd_11ea_a31c_0242ac1c0002row6_col1 {\n",
              "            background-color:  #3f53c6;\n",
              "            color:  #f1f1f1;\n",
              "        }    #T_f0c9a760_c9cd_11ea_a31c_0242ac1c0002row6_col2 {\n",
              "            background-color:  #485fd1;\n",
              "            color:  #f1f1f1;\n",
              "        }    #T_f0c9a760_c9cd_11ea_a31c_0242ac1c0002row6_col3 {\n",
              "            background-color:  #000000;\n",
              "            color:  #f1f1f1;\n",
              "        }    #T_f0c9a760_c9cd_11ea_a31c_0242ac1c0002row6_col4 {\n",
              "            background-color:  #4055c8;\n",
              "            color:  #f1f1f1;\n",
              "        }    #T_f0c9a760_c9cd_11ea_a31c_0242ac1c0002row6_col5 {\n",
              "            background-color:  #5a78e4;\n",
              "            color:  #000000;\n",
              "        }    #T_f0c9a760_c9cd_11ea_a31c_0242ac1c0002row6_col6 {\n",
              "            background-color:  #b40426;\n",
              "            color:  #f1f1f1;\n",
              "        }    #T_f0c9a760_c9cd_11ea_a31c_0242ac1c0002row6_col7 {\n",
              "            background-color:  #5470de;\n",
              "            color:  #000000;\n",
              "        }    #T_f0c9a760_c9cd_11ea_a31c_0242ac1c0002row6_col8 {\n",
              "            background-color:  #485fd1;\n",
              "            color:  #f1f1f1;\n",
              "        }    #T_f0c9a760_c9cd_11ea_a31c_0242ac1c0002row6_col9 {\n",
              "            background-color:  #000000;\n",
              "            color:  #f1f1f1;\n",
              "        }    #T_f0c9a760_c9cd_11ea_a31c_0242ac1c0002row6_col10 {\n",
              "            background-color:  #5572df;\n",
              "            color:  #000000;\n",
              "        }    #T_f0c9a760_c9cd_11ea_a31c_0242ac1c0002row6_col11 {\n",
              "            background-color:  #3c4ec2;\n",
              "            color:  #f1f1f1;\n",
              "        }    #T_f0c9a760_c9cd_11ea_a31c_0242ac1c0002row6_col12 {\n",
              "            background-color:  #5d7ce6;\n",
              "            color:  #000000;\n",
              "        }    #T_f0c9a760_c9cd_11ea_a31c_0242ac1c0002row6_col13 {\n",
              "            background-color:  #5a78e4;\n",
              "            color:  #000000;\n",
              "        }    #T_f0c9a760_c9cd_11ea_a31c_0242ac1c0002row6_col14 {\n",
              "            background-color:  #5e7de7;\n",
              "            color:  #000000;\n",
              "        }    #T_f0c9a760_c9cd_11ea_a31c_0242ac1c0002row6_col15 {\n",
              "            background-color:  #5f7fe8;\n",
              "            color:  #000000;\n",
              "        }    #T_f0c9a760_c9cd_11ea_a31c_0242ac1c0002row7_col0 {\n",
              "            background-color:  #a9c6fd;\n",
              "            color:  #000000;\n",
              "        }    #T_f0c9a760_c9cd_11ea_a31c_0242ac1c0002row7_col1 {\n",
              "            background-color:  #4257c9;\n",
              "            color:  #f1f1f1;\n",
              "        }    #T_f0c9a760_c9cd_11ea_a31c_0242ac1c0002row7_col2 {\n",
              "            background-color:  #4257c9;\n",
              "            color:  #f1f1f1;\n",
              "        }    #T_f0c9a760_c9cd_11ea_a31c_0242ac1c0002row7_col3 {\n",
              "            background-color:  #000000;\n",
              "            color:  #f1f1f1;\n",
              "        }    #T_f0c9a760_c9cd_11ea_a31c_0242ac1c0002row7_col4 {\n",
              "            background-color:  #3e51c5;\n",
              "            color:  #f1f1f1;\n",
              "        }    #T_f0c9a760_c9cd_11ea_a31c_0242ac1c0002row7_col5 {\n",
              "            background-color:  #4961d2;\n",
              "            color:  #f1f1f1;\n",
              "        }    #T_f0c9a760_c9cd_11ea_a31c_0242ac1c0002row7_col6 {\n",
              "            background-color:  #4055c8;\n",
              "            color:  #f1f1f1;\n",
              "        }    #T_f0c9a760_c9cd_11ea_a31c_0242ac1c0002row7_col7 {\n",
              "            background-color:  #b40426;\n",
              "            color:  #f1f1f1;\n",
              "        }    #T_f0c9a760_c9cd_11ea_a31c_0242ac1c0002row7_col8 {\n",
              "            background-color:  #4f69d9;\n",
              "            color:  #000000;\n",
              "        }    #T_f0c9a760_c9cd_11ea_a31c_0242ac1c0002row7_col9 {\n",
              "            background-color:  #000000;\n",
              "            color:  #f1f1f1;\n",
              "        }    #T_f0c9a760_c9cd_11ea_a31c_0242ac1c0002row7_col10 {\n",
              "            background-color:  #536edd;\n",
              "            color:  #000000;\n",
              "        }    #T_f0c9a760_c9cd_11ea_a31c_0242ac1c0002row7_col11 {\n",
              "            background-color:  #93b5fe;\n",
              "            color:  #000000;\n",
              "        }    #T_f0c9a760_c9cd_11ea_a31c_0242ac1c0002row7_col12 {\n",
              "            background-color:  #445acc;\n",
              "            color:  #f1f1f1;\n",
              "        }    #T_f0c9a760_c9cd_11ea_a31c_0242ac1c0002row7_col13 {\n",
              "            background-color:  #3b4cc0;\n",
              "            color:  #f1f1f1;\n",
              "        }    #T_f0c9a760_c9cd_11ea_a31c_0242ac1c0002row7_col14 {\n",
              "            background-color:  #4055c8;\n",
              "            color:  #f1f1f1;\n",
              "        }    #T_f0c9a760_c9cd_11ea_a31c_0242ac1c0002row7_col15 {\n",
              "            background-color:  #3b4cc0;\n",
              "            color:  #f1f1f1;\n",
              "        }    #T_f0c9a760_c9cd_11ea_a31c_0242ac1c0002row8_col0 {\n",
              "            background-color:  #3e51c5;\n",
              "            color:  #f1f1f1;\n",
              "        }    #T_f0c9a760_c9cd_11ea_a31c_0242ac1c0002row8_col1 {\n",
              "            background-color:  #516ddb;\n",
              "            color:  #000000;\n",
              "        }    #T_f0c9a760_c9cd_11ea_a31c_0242ac1c0002row8_col2 {\n",
              "            background-color:  #3b4cc0;\n",
              "            color:  #f1f1f1;\n",
              "        }    #T_f0c9a760_c9cd_11ea_a31c_0242ac1c0002row8_col3 {\n",
              "            background-color:  #000000;\n",
              "            color:  #f1f1f1;\n",
              "        }    #T_f0c9a760_c9cd_11ea_a31c_0242ac1c0002row8_col4 {\n",
              "            background-color:  #3d50c3;\n",
              "            color:  #f1f1f1;\n",
              "        }    #T_f0c9a760_c9cd_11ea_a31c_0242ac1c0002row8_col5 {\n",
              "            background-color:  #4f69d9;\n",
              "            color:  #000000;\n",
              "        }    #T_f0c9a760_c9cd_11ea_a31c_0242ac1c0002row8_col6 {\n",
              "            background-color:  #4961d2;\n",
              "            color:  #f1f1f1;\n",
              "        }    #T_f0c9a760_c9cd_11ea_a31c_0242ac1c0002row8_col7 {\n",
              "            background-color:  #6384eb;\n",
              "            color:  #000000;\n",
              "        }    #T_f0c9a760_c9cd_11ea_a31c_0242ac1c0002row8_col8 {\n",
              "            background-color:  #b40426;\n",
              "            color:  #f1f1f1;\n",
              "        }    #T_f0c9a760_c9cd_11ea_a31c_0242ac1c0002row8_col9 {\n",
              "            background-color:  #000000;\n",
              "            color:  #f1f1f1;\n",
              "        }    #T_f0c9a760_c9cd_11ea_a31c_0242ac1c0002row8_col10 {\n",
              "            background-color:  #516ddb;\n",
              "            color:  #000000;\n",
              "        }    #T_f0c9a760_c9cd_11ea_a31c_0242ac1c0002row8_col11 {\n",
              "            background-color:  #4055c8;\n",
              "            color:  #f1f1f1;\n",
              "        }    #T_f0c9a760_c9cd_11ea_a31c_0242ac1c0002row8_col12 {\n",
              "            background-color:  #4358cb;\n",
              "            color:  #f1f1f1;\n",
              "        }    #T_f0c9a760_c9cd_11ea_a31c_0242ac1c0002row8_col13 {\n",
              "            background-color:  #536edd;\n",
              "            color:  #000000;\n",
              "        }    #T_f0c9a760_c9cd_11ea_a31c_0242ac1c0002row8_col14 {\n",
              "            background-color:  #4358cb;\n",
              "            color:  #f1f1f1;\n",
              "        }    #T_f0c9a760_c9cd_11ea_a31c_0242ac1c0002row8_col15 {\n",
              "            background-color:  #4e68d8;\n",
              "            color:  #000000;\n",
              "        }    #T_f0c9a760_c9cd_11ea_a31c_0242ac1c0002row9_col0 {\n",
              "            background-color:  #000000;\n",
              "            color:  #f1f1f1;\n",
              "        }    #T_f0c9a760_c9cd_11ea_a31c_0242ac1c0002row9_col1 {\n",
              "            background-color:  #000000;\n",
              "            color:  #f1f1f1;\n",
              "        }    #T_f0c9a760_c9cd_11ea_a31c_0242ac1c0002row9_col2 {\n",
              "            background-color:  #000000;\n",
              "            color:  #f1f1f1;\n",
              "        }    #T_f0c9a760_c9cd_11ea_a31c_0242ac1c0002row9_col3 {\n",
              "            background-color:  #000000;\n",
              "            color:  #f1f1f1;\n",
              "        }    #T_f0c9a760_c9cd_11ea_a31c_0242ac1c0002row9_col4 {\n",
              "            background-color:  #000000;\n",
              "            color:  #f1f1f1;\n",
              "        }    #T_f0c9a760_c9cd_11ea_a31c_0242ac1c0002row9_col5 {\n",
              "            background-color:  #000000;\n",
              "            color:  #f1f1f1;\n",
              "        }    #T_f0c9a760_c9cd_11ea_a31c_0242ac1c0002row9_col6 {\n",
              "            background-color:  #000000;\n",
              "            color:  #f1f1f1;\n",
              "        }    #T_f0c9a760_c9cd_11ea_a31c_0242ac1c0002row9_col7 {\n",
              "            background-color:  #000000;\n",
              "            color:  #f1f1f1;\n",
              "        }    #T_f0c9a760_c9cd_11ea_a31c_0242ac1c0002row9_col8 {\n",
              "            background-color:  #000000;\n",
              "            color:  #f1f1f1;\n",
              "        }    #T_f0c9a760_c9cd_11ea_a31c_0242ac1c0002row9_col9 {\n",
              "            background-color:  #000000;\n",
              "            color:  #f1f1f1;\n",
              "        }    #T_f0c9a760_c9cd_11ea_a31c_0242ac1c0002row9_col10 {\n",
              "            background-color:  #000000;\n",
              "            color:  #f1f1f1;\n",
              "        }    #T_f0c9a760_c9cd_11ea_a31c_0242ac1c0002row9_col11 {\n",
              "            background-color:  #000000;\n",
              "            color:  #f1f1f1;\n",
              "        }    #T_f0c9a760_c9cd_11ea_a31c_0242ac1c0002row9_col12 {\n",
              "            background-color:  #000000;\n",
              "            color:  #f1f1f1;\n",
              "        }    #T_f0c9a760_c9cd_11ea_a31c_0242ac1c0002row9_col13 {\n",
              "            background-color:  #000000;\n",
              "            color:  #f1f1f1;\n",
              "        }    #T_f0c9a760_c9cd_11ea_a31c_0242ac1c0002row9_col14 {\n",
              "            background-color:  #000000;\n",
              "            color:  #f1f1f1;\n",
              "        }    #T_f0c9a760_c9cd_11ea_a31c_0242ac1c0002row9_col15 {\n",
              "            background-color:  #000000;\n",
              "            color:  #f1f1f1;\n",
              "        }    #T_f0c9a760_c9cd_11ea_a31c_0242ac1c0002row10_col0 {\n",
              "            background-color:  #3e51c5;\n",
              "            color:  #f1f1f1;\n",
              "        }    #T_f0c9a760_c9cd_11ea_a31c_0242ac1c0002row10_col1 {\n",
              "            background-color:  #4961d2;\n",
              "            color:  #f1f1f1;\n",
              "        }    #T_f0c9a760_c9cd_11ea_a31c_0242ac1c0002row10_col2 {\n",
              "            background-color:  #465ecf;\n",
              "            color:  #f1f1f1;\n",
              "        }    #T_f0c9a760_c9cd_11ea_a31c_0242ac1c0002row10_col3 {\n",
              "            background-color:  #000000;\n",
              "            color:  #f1f1f1;\n",
              "        }    #T_f0c9a760_c9cd_11ea_a31c_0242ac1c0002row10_col4 {\n",
              "            background-color:  #3b4cc0;\n",
              "            color:  #f1f1f1;\n",
              "        }    #T_f0c9a760_c9cd_11ea_a31c_0242ac1c0002row10_col5 {\n",
              "            background-color:  #4c66d6;\n",
              "            color:  #000000;\n",
              "        }    #T_f0c9a760_c9cd_11ea_a31c_0242ac1c0002row10_col6 {\n",
              "            background-color:  #4f69d9;\n",
              "            color:  #000000;\n",
              "        }    #T_f0c9a760_c9cd_11ea_a31c_0242ac1c0002row10_col7 {\n",
              "            background-color:  #5f7fe8;\n",
              "            color:  #000000;\n",
              "        }    #T_f0c9a760_c9cd_11ea_a31c_0242ac1c0002row10_col8 {\n",
              "            background-color:  #4a63d3;\n",
              "            color:  #f1f1f1;\n",
              "        }    #T_f0c9a760_c9cd_11ea_a31c_0242ac1c0002row10_col9 {\n",
              "            background-color:  #000000;\n",
              "            color:  #f1f1f1;\n",
              "        }    #T_f0c9a760_c9cd_11ea_a31c_0242ac1c0002row10_col10 {\n",
              "            background-color:  #b40426;\n",
              "            color:  #f1f1f1;\n",
              "        }    #T_f0c9a760_c9cd_11ea_a31c_0242ac1c0002row10_col11 {\n",
              "            background-color:  #465ecf;\n",
              "            color:  #f1f1f1;\n",
              "        }    #T_f0c9a760_c9cd_11ea_a31c_0242ac1c0002row10_col12 {\n",
              "            background-color:  #3b4cc0;\n",
              "            color:  #f1f1f1;\n",
              "        }    #T_f0c9a760_c9cd_11ea_a31c_0242ac1c0002row10_col13 {\n",
              "            background-color:  #5e7de7;\n",
              "            color:  #000000;\n",
              "        }    #T_f0c9a760_c9cd_11ea_a31c_0242ac1c0002row10_col14 {\n",
              "            background-color:  #516ddb;\n",
              "            color:  #000000;\n",
              "        }    #T_f0c9a760_c9cd_11ea_a31c_0242ac1c0002row10_col15 {\n",
              "            background-color:  #5e7de7;\n",
              "            color:  #000000;\n",
              "        }    #T_f0c9a760_c9cd_11ea_a31c_0242ac1c0002row11_col0 {\n",
              "            background-color:  #f7af91;\n",
              "            color:  #000000;\n",
              "        }    #T_f0c9a760_c9cd_11ea_a31c_0242ac1c0002row11_col1 {\n",
              "            background-color:  #4961d2;\n",
              "            color:  #f1f1f1;\n",
              "        }    #T_f0c9a760_c9cd_11ea_a31c_0242ac1c0002row11_col2 {\n",
              "            background-color:  #4358cb;\n",
              "            color:  #f1f1f1;\n",
              "        }    #T_f0c9a760_c9cd_11ea_a31c_0242ac1c0002row11_col3 {\n",
              "            background-color:  #000000;\n",
              "            color:  #f1f1f1;\n",
              "        }    #T_f0c9a760_c9cd_11ea_a31c_0242ac1c0002row11_col4 {\n",
              "            background-color:  #3d50c3;\n",
              "            color:  #f1f1f1;\n",
              "        }    #T_f0c9a760_c9cd_11ea_a31c_0242ac1c0002row11_col5 {\n",
              "            background-color:  #4257c9;\n",
              "            color:  #f1f1f1;\n",
              "        }    #T_f0c9a760_c9cd_11ea_a31c_0242ac1c0002row11_col6 {\n",
              "            background-color:  #3d50c3;\n",
              "            color:  #f1f1f1;\n",
              "        }    #T_f0c9a760_c9cd_11ea_a31c_0242ac1c0002row11_col7 {\n",
              "            background-color:  #a5c3fe;\n",
              "            color:  #000000;\n",
              "        }    #T_f0c9a760_c9cd_11ea_a31c_0242ac1c0002row11_col8 {\n",
              "            background-color:  #4055c8;\n",
              "            color:  #f1f1f1;\n",
              "        }    #T_f0c9a760_c9cd_11ea_a31c_0242ac1c0002row11_col9 {\n",
              "            background-color:  #000000;\n",
              "            color:  #f1f1f1;\n",
              "        }    #T_f0c9a760_c9cd_11ea_a31c_0242ac1c0002row11_col10 {\n",
              "            background-color:  #4f69d9;\n",
              "            color:  #000000;\n",
              "        }    #T_f0c9a760_c9cd_11ea_a31c_0242ac1c0002row11_col11 {\n",
              "            background-color:  #b40426;\n",
              "            color:  #f1f1f1;\n",
              "        }    #T_f0c9a760_c9cd_11ea_a31c_0242ac1c0002row11_col12 {\n",
              "            background-color:  #4257c9;\n",
              "            color:  #f1f1f1;\n",
              "        }    #T_f0c9a760_c9cd_11ea_a31c_0242ac1c0002row11_col13 {\n",
              "            background-color:  #f7b89c;\n",
              "            color:  #000000;\n",
              "        }    #T_f0c9a760_c9cd_11ea_a31c_0242ac1c0002row11_col14 {\n",
              "            background-color:  #ccd9ed;\n",
              "            color:  #000000;\n",
              "        }    #T_f0c9a760_c9cd_11ea_a31c_0242ac1c0002row11_col15 {\n",
              "            background-color:  #e0dbd8;\n",
              "            color:  #000000;\n",
              "        }    #T_f0c9a760_c9cd_11ea_a31c_0242ac1c0002row12_col0 {\n",
              "            background-color:  #3e51c5;\n",
              "            color:  #f1f1f1;\n",
              "        }    #T_f0c9a760_c9cd_11ea_a31c_0242ac1c0002row12_col1 {\n",
              "            background-color:  #4358cb;\n",
              "            color:  #f1f1f1;\n",
              "        }    #T_f0c9a760_c9cd_11ea_a31c_0242ac1c0002row12_col2 {\n",
              "            background-color:  #4961d2;\n",
              "            color:  #f1f1f1;\n",
              "        }    #T_f0c9a760_c9cd_11ea_a31c_0242ac1c0002row12_col3 {\n",
              "            background-color:  #000000;\n",
              "            color:  #f1f1f1;\n",
              "        }    #T_f0c9a760_c9cd_11ea_a31c_0242ac1c0002row12_col4 {\n",
              "            background-color:  #3b4cc0;\n",
              "            color:  #f1f1f1;\n",
              "        }    #T_f0c9a760_c9cd_11ea_a31c_0242ac1c0002row12_col5 {\n",
              "            background-color:  #4358cb;\n",
              "            color:  #f1f1f1;\n",
              "        }    #T_f0c9a760_c9cd_11ea_a31c_0242ac1c0002row12_col6 {\n",
              "            background-color:  #5673e0;\n",
              "            color:  #000000;\n",
              "        }    #T_f0c9a760_c9cd_11ea_a31c_0242ac1c0002row12_col7 {\n",
              "            background-color:  #516ddb;\n",
              "            color:  #000000;\n",
              "        }    #T_f0c9a760_c9cd_11ea_a31c_0242ac1c0002row12_col8 {\n",
              "            background-color:  #3c4ec2;\n",
              "            color:  #f1f1f1;\n",
              "        }    #T_f0c9a760_c9cd_11ea_a31c_0242ac1c0002row12_col9 {\n",
              "            background-color:  #000000;\n",
              "            color:  #f1f1f1;\n",
              "        }    #T_f0c9a760_c9cd_11ea_a31c_0242ac1c0002row12_col10 {\n",
              "            background-color:  #3b4cc0;\n",
              "            color:  #f1f1f1;\n",
              "        }    #T_f0c9a760_c9cd_11ea_a31c_0242ac1c0002row12_col11 {\n",
              "            background-color:  #3b4cc0;\n",
              "            color:  #f1f1f1;\n",
              "        }    #T_f0c9a760_c9cd_11ea_a31c_0242ac1c0002row12_col12 {\n",
              "            background-color:  #b40426;\n",
              "            color:  #f1f1f1;\n",
              "        }    #T_f0c9a760_c9cd_11ea_a31c_0242ac1c0002row12_col13 {\n",
              "            background-color:  #5875e1;\n",
              "            color:  #000000;\n",
              "        }    #T_f0c9a760_c9cd_11ea_a31c_0242ac1c0002row12_col14 {\n",
              "            background-color:  #506bda;\n",
              "            color:  #000000;\n",
              "        }    #T_f0c9a760_c9cd_11ea_a31c_0242ac1c0002row12_col15 {\n",
              "            background-color:  #5470de;\n",
              "            color:  #000000;\n",
              "        }    #T_f0c9a760_c9cd_11ea_a31c_0242ac1c0002row13_col0 {\n",
              "            background-color:  #adc9fd;\n",
              "            color:  #000000;\n",
              "        }    #T_f0c9a760_c9cd_11ea_a31c_0242ac1c0002row13_col1 {\n",
              "            background-color:  #4f69d9;\n",
              "            color:  #000000;\n",
              "        }    #T_f0c9a760_c9cd_11ea_a31c_0242ac1c0002row13_col2 {\n",
              "            background-color:  #485fd1;\n",
              "            color:  #f1f1f1;\n",
              "        }    #T_f0c9a760_c9cd_11ea_a31c_0242ac1c0002row13_col3 {\n",
              "            background-color:  #000000;\n",
              "            color:  #f1f1f1;\n",
              "        }    #T_f0c9a760_c9cd_11ea_a31c_0242ac1c0002row13_col4 {\n",
              "            background-color:  #3f53c6;\n",
              "            color:  #f1f1f1;\n",
              "        }    #T_f0c9a760_c9cd_11ea_a31c_0242ac1c0002row13_col5 {\n",
              "            background-color:  #3b4cc0;\n",
              "            color:  #f1f1f1;\n",
              "        }    #T_f0c9a760_c9cd_11ea_a31c_0242ac1c0002row13_col6 {\n",
              "            background-color:  #485fd1;\n",
              "            color:  #f1f1f1;\n",
              "        }    #T_f0c9a760_c9cd_11ea_a31c_0242ac1c0002row13_col7 {\n",
              "            background-color:  #3b4cc0;\n",
              "            color:  #f1f1f1;\n",
              "        }    #T_f0c9a760_c9cd_11ea_a31c_0242ac1c0002row13_col8 {\n",
              "            background-color:  #3d50c3;\n",
              "            color:  #f1f1f1;\n",
              "        }    #T_f0c9a760_c9cd_11ea_a31c_0242ac1c0002row13_col9 {\n",
              "            background-color:  #000000;\n",
              "            color:  #f1f1f1;\n",
              "        }    #T_f0c9a760_c9cd_11ea_a31c_0242ac1c0002row13_col10 {\n",
              "            background-color:  #506bda;\n",
              "            color:  #000000;\n",
              "        }    #T_f0c9a760_c9cd_11ea_a31c_0242ac1c0002row13_col11 {\n",
              "            background-color:  #f6bfa6;\n",
              "            color:  #000000;\n",
              "        }    #T_f0c9a760_c9cd_11ea_a31c_0242ac1c0002row13_col12 {\n",
              "            background-color:  #4a63d3;\n",
              "            color:  #f1f1f1;\n",
              "        }    #T_f0c9a760_c9cd_11ea_a31c_0242ac1c0002row13_col13 {\n",
              "            background-color:  #b40426;\n",
              "            color:  #f1f1f1;\n",
              "        }    #T_f0c9a760_c9cd_11ea_a31c_0242ac1c0002row13_col14 {\n",
              "            background-color:  #f5c0a7;\n",
              "            color:  #000000;\n",
              "        }    #T_f0c9a760_c9cd_11ea_a31c_0242ac1c0002row13_col15 {\n",
              "            background-color:  #ef886b;\n",
              "            color:  #000000;\n",
              "        }    #T_f0c9a760_c9cd_11ea_a31c_0242ac1c0002row14_col0 {\n",
              "            background-color:  #8caffe;\n",
              "            color:  #000000;\n",
              "        }    #T_f0c9a760_c9cd_11ea_a31c_0242ac1c0002row14_col1 {\n",
              "            background-color:  #465ecf;\n",
              "            color:  #f1f1f1;\n",
              "        }    #T_f0c9a760_c9cd_11ea_a31c_0242ac1c0002row14_col2 {\n",
              "            background-color:  #4c66d6;\n",
              "            color:  #000000;\n",
              "        }    #T_f0c9a760_c9cd_11ea_a31c_0242ac1c0002row14_col3 {\n",
              "            background-color:  #000000;\n",
              "            color:  #f1f1f1;\n",
              "        }    #T_f0c9a760_c9cd_11ea_a31c_0242ac1c0002row14_col4 {\n",
              "            background-color:  #3e51c5;\n",
              "            color:  #f1f1f1;\n",
              "        }    #T_f0c9a760_c9cd_11ea_a31c_0242ac1c0002row14_col5 {\n",
              "            background-color:  #3b4cc0;\n",
              "            color:  #f1f1f1;\n",
              "        }    #T_f0c9a760_c9cd_11ea_a31c_0242ac1c0002row14_col6 {\n",
              "            background-color:  #5a78e4;\n",
              "            color:  #000000;\n",
              "        }    #T_f0c9a760_c9cd_11ea_a31c_0242ac1c0002row14_col7 {\n",
              "            background-color:  #506bda;\n",
              "            color:  #000000;\n",
              "        }    #T_f0c9a760_c9cd_11ea_a31c_0242ac1c0002row14_col8 {\n",
              "            background-color:  #3e51c5;\n",
              "            color:  #f1f1f1;\n",
              "        }    #T_f0c9a760_c9cd_11ea_a31c_0242ac1c0002row14_col9 {\n",
              "            background-color:  #000000;\n",
              "            color:  #f1f1f1;\n",
              "        }    #T_f0c9a760_c9cd_11ea_a31c_0242ac1c0002row14_col10 {\n",
              "            background-color:  #5470de;\n",
              "            color:  #000000;\n",
              "        }    #T_f0c9a760_c9cd_11ea_a31c_0242ac1c0002row14_col11 {\n",
              "            background-color:  #c9d7f0;\n",
              "            color:  #000000;\n",
              "        }    #T_f0c9a760_c9cd_11ea_a31c_0242ac1c0002row14_col12 {\n",
              "            background-color:  #516ddb;\n",
              "            color:  #000000;\n",
              "        }    #T_f0c9a760_c9cd_11ea_a31c_0242ac1c0002row14_col13 {\n",
              "            background-color:  #f7ba9f;\n",
              "            color:  #000000;\n",
              "        }    #T_f0c9a760_c9cd_11ea_a31c_0242ac1c0002row14_col14 {\n",
              "            background-color:  #b40426;\n",
              "            color:  #f1f1f1;\n",
              "        }    #T_f0c9a760_c9cd_11ea_a31c_0242ac1c0002row14_col15 {\n",
              "            background-color:  #ebd3c6;\n",
              "            color:  #000000;\n",
              "        }    #T_f0c9a760_c9cd_11ea_a31c_0242ac1c0002row15_col0 {\n",
              "            background-color:  #88abfd;\n",
              "            color:  #000000;\n",
              "        }    #T_f0c9a760_c9cd_11ea_a31c_0242ac1c0002row15_col1 {\n",
              "            background-color:  #4c66d6;\n",
              "            color:  #000000;\n",
              "        }    #T_f0c9a760_c9cd_11ea_a31c_0242ac1c0002row15_col2 {\n",
              "            background-color:  #485fd1;\n",
              "            color:  #f1f1f1;\n",
              "        }    #T_f0c9a760_c9cd_11ea_a31c_0242ac1c0002row15_col3 {\n",
              "            background-color:  #000000;\n",
              "            color:  #f1f1f1;\n",
              "        }    #T_f0c9a760_c9cd_11ea_a31c_0242ac1c0002row15_col4 {\n",
              "            background-color:  #4055c8;\n",
              "            color:  #f1f1f1;\n",
              "        }    #T_f0c9a760_c9cd_11ea_a31c_0242ac1c0002row15_col5 {\n",
              "            background-color:  #3d50c3;\n",
              "            color:  #f1f1f1;\n",
              "        }    #T_f0c9a760_c9cd_11ea_a31c_0242ac1c0002row15_col6 {\n",
              "            background-color:  #4e68d8;\n",
              "            color:  #000000;\n",
              "        }    #T_f0c9a760_c9cd_11ea_a31c_0242ac1c0002row15_col7 {\n",
              "            background-color:  #3c4ec2;\n",
              "            color:  #f1f1f1;\n",
              "        }    #T_f0c9a760_c9cd_11ea_a31c_0242ac1c0002row15_col8 {\n",
              "            background-color:  #3b4cc0;\n",
              "            color:  #f1f1f1;\n",
              "        }    #T_f0c9a760_c9cd_11ea_a31c_0242ac1c0002row15_col9 {\n",
              "            background-color:  #000000;\n",
              "            color:  #f1f1f1;\n",
              "        }    #T_f0c9a760_c9cd_11ea_a31c_0242ac1c0002row15_col10 {\n",
              "            background-color:  #536edd;\n",
              "            color:  #000000;\n",
              "        }    #T_f0c9a760_c9cd_11ea_a31c_0242ac1c0002row15_col11 {\n",
              "            background-color:  #d7dce3;\n",
              "            color:  #000000;\n",
              "        }    #T_f0c9a760_c9cd_11ea_a31c_0242ac1c0002row15_col12 {\n",
              "            background-color:  #4961d2;\n",
              "            color:  #f1f1f1;\n",
              "        }    #T_f0c9a760_c9cd_11ea_a31c_0242ac1c0002row15_col13 {\n",
              "            background-color:  #ee8669;\n",
              "            color:  #000000;\n",
              "        }    #T_f0c9a760_c9cd_11ea_a31c_0242ac1c0002row15_col14 {\n",
              "            background-color:  #e6d7cf;\n",
              "            color:  #000000;\n",
              "        }    #T_f0c9a760_c9cd_11ea_a31c_0242ac1c0002row15_col15 {\n",
              "            background-color:  #b40426;\n",
              "            color:  #f1f1f1;\n",
              "        }</style><table id=\"T_f0c9a760_c9cd_11ea_a31c_0242ac1c0002\" ><thead>    <tr>        <th class=\"blank level0\" ></th>        <th class=\"col_heading level0 col0\" >Age</th>        <th class=\"col_heading level0 col1\" >DistanceFromHome</th>        <th class=\"col_heading level0 col2\" >Education</th>        <th class=\"col_heading level0 col3\" >EmployeeCount</th>        <th class=\"col_heading level0 col4\" >EmployeeID</th>        <th class=\"col_heading level0 col5\" >JobLevel</th>        <th class=\"col_heading level0 col6\" >MonthlyIncome</th>        <th class=\"col_heading level0 col7\" >NumCompaniesWorked</th>        <th class=\"col_heading level0 col8\" >PercentSalaryHike</th>        <th class=\"col_heading level0 col9\" >StandardHours</th>        <th class=\"col_heading level0 col10\" >StockOptionLevel</th>        <th class=\"col_heading level0 col11\" >TotalWorkingYears</th>        <th class=\"col_heading level0 col12\" >TrainingTimesLastYear</th>        <th class=\"col_heading level0 col13\" >YearsAtCompany</th>        <th class=\"col_heading level0 col14\" >YearsSinceLastPromotion</th>        <th class=\"col_heading level0 col15\" >YearsWithCurrManager</th>    </tr></thead><tbody>\n",
              "                <tr>\n",
              "                        <th id=\"T_f0c9a760_c9cd_11ea_a31c_0242ac1c0002level0_row0\" class=\"row_heading level0 row0\" >Age</th>\n",
              "                        <td id=\"T_f0c9a760_c9cd_11ea_a31c_0242ac1c0002row0_col0\" class=\"data row0 col0\" >1.000000</td>\n",
              "                        <td id=\"T_f0c9a760_c9cd_11ea_a31c_0242ac1c0002row0_col1\" class=\"data row0 col1\" >0.007376</td>\n",
              "                        <td id=\"T_f0c9a760_c9cd_11ea_a31c_0242ac1c0002row0_col2\" class=\"data row0 col2\" >-0.033900</td>\n",
              "                        <td id=\"T_f0c9a760_c9cd_11ea_a31c_0242ac1c0002row0_col3\" class=\"data row0 col3\" >nan</td>\n",
              "                        <td id=\"T_f0c9a760_c9cd_11ea_a31c_0242ac1c0002row0_col4\" class=\"data row0 col4\" >0.008105</td>\n",
              "                        <td id=\"T_f0c9a760_c9cd_11ea_a31c_0242ac1c0002row0_col5\" class=\"data row0 col5\" >-0.001137</td>\n",
              "                        <td id=\"T_f0c9a760_c9cd_11ea_a31c_0242ac1c0002row0_col6\" class=\"data row0 col6\" >-0.045163</td>\n",
              "                        <td id=\"T_f0c9a760_c9cd_11ea_a31c_0242ac1c0002row0_col7\" class=\"data row0 col7\" >0.299527</td>\n",
              "                        <td id=\"T_f0c9a760_c9cd_11ea_a31c_0242ac1c0002row0_col8\" class=\"data row0 col8\" >-0.032561</td>\n",
              "                        <td id=\"T_f0c9a760_c9cd_11ea_a31c_0242ac1c0002row0_col9\" class=\"data row0 col9\" >nan</td>\n",
              "                        <td id=\"T_f0c9a760_c9cd_11ea_a31c_0242ac1c0002row0_col10\" class=\"data row0 col10\" >-0.031504</td>\n",
              "                        <td id=\"T_f0c9a760_c9cd_11ea_a31c_0242ac1c0002row0_col11\" class=\"data row0 col11\" >0.680037</td>\n",
              "                        <td id=\"T_f0c9a760_c9cd_11ea_a31c_0242ac1c0002row0_col12\" class=\"data row0 col12\" >-0.028962</td>\n",
              "                        <td id=\"T_f0c9a760_c9cd_11ea_a31c_0242ac1c0002row0_col13\" class=\"data row0 col13\" >0.311281</td>\n",
              "                        <td id=\"T_f0c9a760_c9cd_11ea_a31c_0242ac1c0002row0_col14\" class=\"data row0 col14\" >0.215650</td>\n",
              "                        <td id=\"T_f0c9a760_c9cd_11ea_a31c_0242ac1c0002row0_col15\" class=\"data row0 col15\" >0.201580</td>\n",
              "            </tr>\n",
              "            <tr>\n",
              "                        <th id=\"T_f0c9a760_c9cd_11ea_a31c_0242ac1c0002level0_row1\" class=\"row_heading level0 row1\" >DistanceFromHome</th>\n",
              "                        <td id=\"T_f0c9a760_c9cd_11ea_a31c_0242ac1c0002row1_col0\" class=\"data row1 col0\" >0.007376</td>\n",
              "                        <td id=\"T_f0c9a760_c9cd_11ea_a31c_0242ac1c0002row1_col1\" class=\"data row1 col1\" >1.000000</td>\n",
              "                        <td id=\"T_f0c9a760_c9cd_11ea_a31c_0242ac1c0002row1_col2\" class=\"data row1 col2\" >-0.007491</td>\n",
              "                        <td id=\"T_f0c9a760_c9cd_11ea_a31c_0242ac1c0002row1_col3\" class=\"data row1 col3\" >nan</td>\n",
              "                        <td id=\"T_f0c9a760_c9cd_11ea_a31c_0242ac1c0002row1_col4\" class=\"data row1 col4\" >-0.000326</td>\n",
              "                        <td id=\"T_f0c9a760_c9cd_11ea_a31c_0242ac1c0002row1_col5\" class=\"data row1 col5\" >-0.039990</td>\n",
              "                        <td id=\"T_f0c9a760_c9cd_11ea_a31c_0242ac1c0002row1_col6\" class=\"data row1 col6\" >-0.022757</td>\n",
              "                        <td id=\"T_f0c9a760_c9cd_11ea_a31c_0242ac1c0002row1_col7\" class=\"data row1 col7\" >-0.014449</td>\n",
              "                        <td id=\"T_f0c9a760_c9cd_11ea_a31c_0242ac1c0002row1_col8\" class=\"data row1 col8\" >0.037720</td>\n",
              "                        <td id=\"T_f0c9a760_c9cd_11ea_a31c_0242ac1c0002row1_col9\" class=\"data row1 col9\" >nan</td>\n",
              "                        <td id=\"T_f0c9a760_c9cd_11ea_a31c_0242ac1c0002row1_col10\" class=\"data row1 col10\" >0.009353</td>\n",
              "                        <td id=\"T_f0c9a760_c9cd_11ea_a31c_0242ac1c0002row1_col11\" class=\"data row1 col11\" >0.009574</td>\n",
              "                        <td id=\"T_f0c9a760_c9cd_11ea_a31c_0242ac1c0002row1_col12\" class=\"data row1 col12\" >-0.008957</td>\n",
              "                        <td id=\"T_f0c9a760_c9cd_11ea_a31c_0242ac1c0002row1_col13\" class=\"data row1 col13\" >0.030746</td>\n",
              "                        <td id=\"T_f0c9a760_c9cd_11ea_a31c_0242ac1c0002row1_col14\" class=\"data row1 col14\" >0.002243</td>\n",
              "                        <td id=\"T_f0c9a760_c9cd_11ea_a31c_0242ac1c0002row1_col15\" class=\"data row1 col15\" >0.021773</td>\n",
              "            </tr>\n",
              "            <tr>\n",
              "                        <th id=\"T_f0c9a760_c9cd_11ea_a31c_0242ac1c0002level0_row2\" class=\"row_heading level0 row2\" >Education</th>\n",
              "                        <td id=\"T_f0c9a760_c9cd_11ea_a31c_0242ac1c0002row2_col0\" class=\"data row2 col0\" >-0.033900</td>\n",
              "                        <td id=\"T_f0c9a760_c9cd_11ea_a31c_0242ac1c0002row2_col1\" class=\"data row2 col1\" >-0.007491</td>\n",
              "                        <td id=\"T_f0c9a760_c9cd_11ea_a31c_0242ac1c0002row2_col2\" class=\"data row2 col2\" >1.000000</td>\n",
              "                        <td id=\"T_f0c9a760_c9cd_11ea_a31c_0242ac1c0002row2_col3\" class=\"data row2 col3\" >nan</td>\n",
              "                        <td id=\"T_f0c9a760_c9cd_11ea_a31c_0242ac1c0002row2_col4\" class=\"data row2 col4\" >-0.009389</td>\n",
              "                        <td id=\"T_f0c9a760_c9cd_11ea_a31c_0242ac1c0002row2_col5\" class=\"data row2 col5\" >0.045822</td>\n",
              "                        <td id=\"T_f0c9a760_c9cd_11ea_a31c_0242ac1c0002row2_col6\" class=\"data row2 col6\" >0.007289</td>\n",
              "                        <td id=\"T_f0c9a760_c9cd_11ea_a31c_0242ac1c0002row2_col7\" class=\"data row2 col7\" >-0.016210</td>\n",
              "                        <td id=\"T_f0c9a760_c9cd_11ea_a31c_0242ac1c0002row2_col8\" class=\"data row2 col8\" >-0.041054</td>\n",
              "                        <td id=\"T_f0c9a760_c9cd_11ea_a31c_0242ac1c0002row2_col9\" class=\"data row2 col9\" >nan</td>\n",
              "                        <td id=\"T_f0c9a760_c9cd_11ea_a31c_0242ac1c0002row2_col10\" class=\"data row2 col10\" >0.002386</td>\n",
              "                        <td id=\"T_f0c9a760_c9cd_11ea_a31c_0242ac1c0002row2_col11\" class=\"data row2 col11\" >-0.009228</td>\n",
              "                        <td id=\"T_f0c9a760_c9cd_11ea_a31c_0242ac1c0002row2_col12\" class=\"data row2 col12\" >0.009939</td>\n",
              "                        <td id=\"T_f0c9a760_c9cd_11ea_a31c_0242ac1c0002row2_col13\" class=\"data row2 col13\" >0.005997</td>\n",
              "                        <td id=\"T_f0c9a760_c9cd_11ea_a31c_0242ac1c0002row2_col14\" class=\"data row2 col14\" >0.023457</td>\n",
              "                        <td id=\"T_f0c9a760_c9cd_11ea_a31c_0242ac1c0002row2_col15\" class=\"data row2 col15\" >0.005645</td>\n",
              "            </tr>\n",
              "            <tr>\n",
              "                        <th id=\"T_f0c9a760_c9cd_11ea_a31c_0242ac1c0002level0_row3\" class=\"row_heading level0 row3\" >EmployeeCount</th>\n",
              "                        <td id=\"T_f0c9a760_c9cd_11ea_a31c_0242ac1c0002row3_col0\" class=\"data row3 col0\" >nan</td>\n",
              "                        <td id=\"T_f0c9a760_c9cd_11ea_a31c_0242ac1c0002row3_col1\" class=\"data row3 col1\" >nan</td>\n",
              "                        <td id=\"T_f0c9a760_c9cd_11ea_a31c_0242ac1c0002row3_col2\" class=\"data row3 col2\" >nan</td>\n",
              "                        <td id=\"T_f0c9a760_c9cd_11ea_a31c_0242ac1c0002row3_col3\" class=\"data row3 col3\" >nan</td>\n",
              "                        <td id=\"T_f0c9a760_c9cd_11ea_a31c_0242ac1c0002row3_col4\" class=\"data row3 col4\" >nan</td>\n",
              "                        <td id=\"T_f0c9a760_c9cd_11ea_a31c_0242ac1c0002row3_col5\" class=\"data row3 col5\" >nan</td>\n",
              "                        <td id=\"T_f0c9a760_c9cd_11ea_a31c_0242ac1c0002row3_col6\" class=\"data row3 col6\" >nan</td>\n",
              "                        <td id=\"T_f0c9a760_c9cd_11ea_a31c_0242ac1c0002row3_col7\" class=\"data row3 col7\" >nan</td>\n",
              "                        <td id=\"T_f0c9a760_c9cd_11ea_a31c_0242ac1c0002row3_col8\" class=\"data row3 col8\" >nan</td>\n",
              "                        <td id=\"T_f0c9a760_c9cd_11ea_a31c_0242ac1c0002row3_col9\" class=\"data row3 col9\" >nan</td>\n",
              "                        <td id=\"T_f0c9a760_c9cd_11ea_a31c_0242ac1c0002row3_col10\" class=\"data row3 col10\" >nan</td>\n",
              "                        <td id=\"T_f0c9a760_c9cd_11ea_a31c_0242ac1c0002row3_col11\" class=\"data row3 col11\" >nan</td>\n",
              "                        <td id=\"T_f0c9a760_c9cd_11ea_a31c_0242ac1c0002row3_col12\" class=\"data row3 col12\" >nan</td>\n",
              "                        <td id=\"T_f0c9a760_c9cd_11ea_a31c_0242ac1c0002row3_col13\" class=\"data row3 col13\" >nan</td>\n",
              "                        <td id=\"T_f0c9a760_c9cd_11ea_a31c_0242ac1c0002row3_col14\" class=\"data row3 col14\" >nan</td>\n",
              "                        <td id=\"T_f0c9a760_c9cd_11ea_a31c_0242ac1c0002row3_col15\" class=\"data row3 col15\" >nan</td>\n",
              "            </tr>\n",
              "            <tr>\n",
              "                        <th id=\"T_f0c9a760_c9cd_11ea_a31c_0242ac1c0002level0_row4\" class=\"row_heading level0 row4\" >EmployeeID</th>\n",
              "                        <td id=\"T_f0c9a760_c9cd_11ea_a31c_0242ac1c0002row4_col0\" class=\"data row4 col0\" >0.008105</td>\n",
              "                        <td id=\"T_f0c9a760_c9cd_11ea_a31c_0242ac1c0002row4_col1\" class=\"data row4 col1\" >-0.000326</td>\n",
              "                        <td id=\"T_f0c9a760_c9cd_11ea_a31c_0242ac1c0002row4_col2\" class=\"data row4 col2\" >-0.009389</td>\n",
              "                        <td id=\"T_f0c9a760_c9cd_11ea_a31c_0242ac1c0002row4_col3\" class=\"data row4 col3\" >nan</td>\n",
              "                        <td id=\"T_f0c9a760_c9cd_11ea_a31c_0242ac1c0002row4_col4\" class=\"data row4 col4\" >1.000000</td>\n",
              "                        <td id=\"T_f0c9a760_c9cd_11ea_a31c_0242ac1c0002row4_col5\" class=\"data row4 col5\" >-0.003090</td>\n",
              "                        <td id=\"T_f0c9a760_c9cd_11ea_a31c_0242ac1c0002row4_col6\" class=\"data row4 col6\" >0.007865</td>\n",
              "                        <td id=\"T_f0c9a760_c9cd_11ea_a31c_0242ac1c0002row4_col7\" class=\"data row4 col7\" >0.000719</td>\n",
              "                        <td id=\"T_f0c9a760_c9cd_11ea_a31c_0242ac1c0002row4_col8\" class=\"data row4 col8\" >-0.004877</td>\n",
              "                        <td id=\"T_f0c9a760_c9cd_11ea_a31c_0242ac1c0002row4_col9\" class=\"data row4 col9\" >nan</td>\n",
              "                        <td id=\"T_f0c9a760_c9cd_11ea_a31c_0242ac1c0002row4_col10\" class=\"data row4 col10\" >-0.013488</td>\n",
              "                        <td id=\"T_f0c9a760_c9cd_11ea_a31c_0242ac1c0002row4_col11\" class=\"data row4 col11\" >-0.001688</td>\n",
              "                        <td id=\"T_f0c9a760_c9cd_11ea_a31c_0242ac1c0002row4_col12\" class=\"data row4 col12\" >-0.012102</td>\n",
              "                        <td id=\"T_f0c9a760_c9cd_11ea_a31c_0242ac1c0002row4_col13\" class=\"data row4 col13\" >0.004117</td>\n",
              "                        <td id=\"T_f0c9a760_c9cd_11ea_a31c_0242ac1c0002row4_col14\" class=\"data row4 col14\" >0.000814</td>\n",
              "                        <td id=\"T_f0c9a760_c9cd_11ea_a31c_0242ac1c0002row4_col15\" class=\"data row4 col15\" >0.009079</td>\n",
              "            </tr>\n",
              "            <tr>\n",
              "                        <th id=\"T_f0c9a760_c9cd_11ea_a31c_0242ac1c0002level0_row5\" class=\"row_heading level0 row5\" >JobLevel</th>\n",
              "                        <td id=\"T_f0c9a760_c9cd_11ea_a31c_0242ac1c0002row5_col0\" class=\"data row5 col0\" >-0.001137</td>\n",
              "                        <td id=\"T_f0c9a760_c9cd_11ea_a31c_0242ac1c0002row5_col1\" class=\"data row5 col1\" >-0.039990</td>\n",
              "                        <td id=\"T_f0c9a760_c9cd_11ea_a31c_0242ac1c0002row5_col2\" class=\"data row5 col2\" >0.045822</td>\n",
              "                        <td id=\"T_f0c9a760_c9cd_11ea_a31c_0242ac1c0002row5_col3\" class=\"data row5 col3\" >nan</td>\n",
              "                        <td id=\"T_f0c9a760_c9cd_11ea_a31c_0242ac1c0002row5_col4\" class=\"data row5 col4\" >-0.003090</td>\n",
              "                        <td id=\"T_f0c9a760_c9cd_11ea_a31c_0242ac1c0002row5_col5\" class=\"data row5 col5\" >1.000000</td>\n",
              "                        <td id=\"T_f0c9a760_c9cd_11ea_a31c_0242ac1c0002row5_col6\" class=\"data row5 col6\" >0.046688</td>\n",
              "                        <td id=\"T_f0c9a760_c9cd_11ea_a31c_0242ac1c0002row5_col7\" class=\"data row5 col7\" >-0.009759</td>\n",
              "                        <td id=\"T_f0c9a760_c9cd_11ea_a31c_0242ac1c0002row5_col8\" class=\"data row5 col8\" >0.010874</td>\n",
              "                        <td id=\"T_f0c9a760_c9cd_11ea_a31c_0242ac1c0002row5_col9\" class=\"data row5 col9\" >nan</td>\n",
              "                        <td id=\"T_f0c9a760_c9cd_11ea_a31c_0242ac1c0002row5_col10\" class=\"data row5 col10\" >0.000365</td>\n",
              "                        <td id=\"T_f0c9a760_c9cd_11ea_a31c_0242ac1c0002row5_col11\" class=\"data row5 col11\" >-0.036293</td>\n",
              "                        <td id=\"T_f0c9a760_c9cd_11ea_a31c_0242ac1c0002row5_col12\" class=\"data row5 col12\" >-0.031931</td>\n",
              "                        <td id=\"T_f0c9a760_c9cd_11ea_a31c_0242ac1c0002row5_col13\" class=\"data row5 col13\" >-0.063360</td>\n",
              "                        <td id=\"T_f0c9a760_c9cd_11ea_a31c_0242ac1c0002row5_col14\" class=\"data row5 col14\" >-0.059680</td>\n",
              "                        <td id=\"T_f0c9a760_c9cd_11ea_a31c_0242ac1c0002row5_col15\" class=\"data row5 col15\" >-0.053898</td>\n",
              "            </tr>\n",
              "            <tr>\n",
              "                        <th id=\"T_f0c9a760_c9cd_11ea_a31c_0242ac1c0002level0_row6\" class=\"row_heading level0 row6\" >MonthlyIncome</th>\n",
              "                        <td id=\"T_f0c9a760_c9cd_11ea_a31c_0242ac1c0002row6_col0\" class=\"data row6 col0\" >-0.045163</td>\n",
              "                        <td id=\"T_f0c9a760_c9cd_11ea_a31c_0242ac1c0002row6_col1\" class=\"data row6 col1\" >-0.022757</td>\n",
              "                        <td id=\"T_f0c9a760_c9cd_11ea_a31c_0242ac1c0002row6_col2\" class=\"data row6 col2\" >0.007289</td>\n",
              "                        <td id=\"T_f0c9a760_c9cd_11ea_a31c_0242ac1c0002row6_col3\" class=\"data row6 col3\" >nan</td>\n",
              "                        <td id=\"T_f0c9a760_c9cd_11ea_a31c_0242ac1c0002row6_col4\" class=\"data row6 col4\" >0.007865</td>\n",
              "                        <td id=\"T_f0c9a760_c9cd_11ea_a31c_0242ac1c0002row6_col5\" class=\"data row6 col5\" >0.046688</td>\n",
              "                        <td id=\"T_f0c9a760_c9cd_11ea_a31c_0242ac1c0002row6_col6\" class=\"data row6 col6\" >1.000000</td>\n",
              "                        <td id=\"T_f0c9a760_c9cd_11ea_a31c_0242ac1c0002row6_col7\" class=\"data row6 col7\" >-0.021446</td>\n",
              "                        <td id=\"T_f0c9a760_c9cd_11ea_a31c_0242ac1c0002row6_col8\" class=\"data row6 col8\" >0.004607</td>\n",
              "                        <td id=\"T_f0c9a760_c9cd_11ea_a31c_0242ac1c0002row6_col9\" class=\"data row6 col9\" >nan</td>\n",
              "                        <td id=\"T_f0c9a760_c9cd_11ea_a31c_0242ac1c0002row6_col10\" class=\"data row6 col10\" >0.027242</td>\n",
              "                        <td id=\"T_f0c9a760_c9cd_11ea_a31c_0242ac1c0002row6_col11\" class=\"data row6 col11\" >-0.034398</td>\n",
              "                        <td id=\"T_f0c9a760_c9cd_11ea_a31c_0242ac1c0002row6_col12\" class=\"data row6 col12\" >0.049780</td>\n",
              "                        <td id=\"T_f0c9a760_c9cd_11ea_a31c_0242ac1c0002row6_col13\" class=\"data row6 col13\" >0.000088</td>\n",
              "                        <td id=\"T_f0c9a760_c9cd_11ea_a31c_0242ac1c0002row6_col14\" class=\"data row6 col14\" >0.064470</td>\n",
              "                        <td id=\"T_f0c9a760_c9cd_11ea_a31c_0242ac1c0002row6_col15\" class=\"data row6 col15\" >0.023095</td>\n",
              "            </tr>\n",
              "            <tr>\n",
              "                        <th id=\"T_f0c9a760_c9cd_11ea_a31c_0242ac1c0002level0_row7\" class=\"row_heading level0 row7\" >NumCompaniesWorked</th>\n",
              "                        <td id=\"T_f0c9a760_c9cd_11ea_a31c_0242ac1c0002row7_col0\" class=\"data row7 col0\" >0.299527</td>\n",
              "                        <td id=\"T_f0c9a760_c9cd_11ea_a31c_0242ac1c0002row7_col1\" class=\"data row7 col1\" >-0.014449</td>\n",
              "                        <td id=\"T_f0c9a760_c9cd_11ea_a31c_0242ac1c0002row7_col2\" class=\"data row7 col2\" >-0.016210</td>\n",
              "                        <td id=\"T_f0c9a760_c9cd_11ea_a31c_0242ac1c0002row7_col3\" class=\"data row7 col3\" >nan</td>\n",
              "                        <td id=\"T_f0c9a760_c9cd_11ea_a31c_0242ac1c0002row7_col4\" class=\"data row7 col4\" >0.000719</td>\n",
              "                        <td id=\"T_f0c9a760_c9cd_11ea_a31c_0242ac1c0002row7_col5\" class=\"data row7 col5\" >-0.009759</td>\n",
              "                        <td id=\"T_f0c9a760_c9cd_11ea_a31c_0242ac1c0002row7_col6\" class=\"data row7 col6\" >-0.021446</td>\n",
              "                        <td id=\"T_f0c9a760_c9cd_11ea_a31c_0242ac1c0002row7_col7\" class=\"data row7 col7\" >1.000000</td>\n",
              "                        <td id=\"T_f0c9a760_c9cd_11ea_a31c_0242ac1c0002row7_col8\" class=\"data row7 col8\" >0.030064</td>\n",
              "                        <td id=\"T_f0c9a760_c9cd_11ea_a31c_0242ac1c0002row7_col9\" class=\"data row7 col9\" >nan</td>\n",
              "                        <td id=\"T_f0c9a760_c9cd_11ea_a31c_0242ac1c0002row7_col10\" class=\"data row7 col10\" >0.016291</td>\n",
              "                        <td id=\"T_f0c9a760_c9cd_11ea_a31c_0242ac1c0002row7_col11\" class=\"data row7 col11\" >0.238807</td>\n",
              "                        <td id=\"T_f0c9a760_c9cd_11ea_a31c_0242ac1c0002row7_col12\" class=\"data row7 col12\" >-0.031335</td>\n",
              "                        <td id=\"T_f0c9a760_c9cd_11ea_a31c_0242ac1c0002row7_col13\" class=\"data row7 col13\" >-0.117213</td>\n",
              "                        <td id=\"T_f0c9a760_c9cd_11ea_a31c_0242ac1c0002row7_col14\" class=\"data row7 col14\" >-0.035855</td>\n",
              "                        <td id=\"T_f0c9a760_c9cd_11ea_a31c_0242ac1c0002row7_col15\" class=\"data row7 col15\" >-0.109372</td>\n",
              "            </tr>\n",
              "            <tr>\n",
              "                        <th id=\"T_f0c9a760_c9cd_11ea_a31c_0242ac1c0002level0_row8\" class=\"row_heading level0 row8\" >PercentSalaryHike</th>\n",
              "                        <td id=\"T_f0c9a760_c9cd_11ea_a31c_0242ac1c0002row8_col0\" class=\"data row8 col0\" >-0.032561</td>\n",
              "                        <td id=\"T_f0c9a760_c9cd_11ea_a31c_0242ac1c0002row8_col1\" class=\"data row8 col1\" >0.037720</td>\n",
              "                        <td id=\"T_f0c9a760_c9cd_11ea_a31c_0242ac1c0002row8_col2\" class=\"data row8 col2\" >-0.041054</td>\n",
              "                        <td id=\"T_f0c9a760_c9cd_11ea_a31c_0242ac1c0002row8_col3\" class=\"data row8 col3\" >nan</td>\n",
              "                        <td id=\"T_f0c9a760_c9cd_11ea_a31c_0242ac1c0002row8_col4\" class=\"data row8 col4\" >-0.004877</td>\n",
              "                        <td id=\"T_f0c9a760_c9cd_11ea_a31c_0242ac1c0002row8_col5\" class=\"data row8 col5\" >0.010874</td>\n",
              "                        <td id=\"T_f0c9a760_c9cd_11ea_a31c_0242ac1c0002row8_col6\" class=\"data row8 col6\" >0.004607</td>\n",
              "                        <td id=\"T_f0c9a760_c9cd_11ea_a31c_0242ac1c0002row8_col7\" class=\"data row8 col7\" >0.030064</td>\n",
              "                        <td id=\"T_f0c9a760_c9cd_11ea_a31c_0242ac1c0002row8_col8\" class=\"data row8 col8\" >1.000000</td>\n",
              "                        <td id=\"T_f0c9a760_c9cd_11ea_a31c_0242ac1c0002row8_col9\" class=\"data row8 col9\" >nan</td>\n",
              "                        <td id=\"T_f0c9a760_c9cd_11ea_a31c_0242ac1c0002row8_col10\" class=\"data row8 col10\" >0.012104</td>\n",
              "                        <td id=\"T_f0c9a760_c9cd_11ea_a31c_0242ac1c0002row8_col11\" class=\"data row8 col11\" >-0.018480</td>\n",
              "                        <td id=\"T_f0c9a760_c9cd_11ea_a31c_0242ac1c0002row8_col12\" class=\"data row8 col12\" >-0.036720</td>\n",
              "                        <td id=\"T_f0c9a760_c9cd_11ea_a31c_0242ac1c0002row8_col13\" class=\"data row8 col13\" >-0.029022</td>\n",
              "                        <td id=\"T_f0c9a760_c9cd_11ea_a31c_0242ac1c0002row8_col14\" class=\"data row8 col14\" >-0.028654</td>\n",
              "                        <td id=\"T_f0c9a760_c9cd_11ea_a31c_0242ac1c0002row8_col15\" class=\"data row8 col15\" >-0.039687</td>\n",
              "            </tr>\n",
              "            <tr>\n",
              "                        <th id=\"T_f0c9a760_c9cd_11ea_a31c_0242ac1c0002level0_row9\" class=\"row_heading level0 row9\" >StandardHours</th>\n",
              "                        <td id=\"T_f0c9a760_c9cd_11ea_a31c_0242ac1c0002row9_col0\" class=\"data row9 col0\" >nan</td>\n",
              "                        <td id=\"T_f0c9a760_c9cd_11ea_a31c_0242ac1c0002row9_col1\" class=\"data row9 col1\" >nan</td>\n",
              "                        <td id=\"T_f0c9a760_c9cd_11ea_a31c_0242ac1c0002row9_col2\" class=\"data row9 col2\" >nan</td>\n",
              "                        <td id=\"T_f0c9a760_c9cd_11ea_a31c_0242ac1c0002row9_col3\" class=\"data row9 col3\" >nan</td>\n",
              "                        <td id=\"T_f0c9a760_c9cd_11ea_a31c_0242ac1c0002row9_col4\" class=\"data row9 col4\" >nan</td>\n",
              "                        <td id=\"T_f0c9a760_c9cd_11ea_a31c_0242ac1c0002row9_col5\" class=\"data row9 col5\" >nan</td>\n",
              "                        <td id=\"T_f0c9a760_c9cd_11ea_a31c_0242ac1c0002row9_col6\" class=\"data row9 col6\" >nan</td>\n",
              "                        <td id=\"T_f0c9a760_c9cd_11ea_a31c_0242ac1c0002row9_col7\" class=\"data row9 col7\" >nan</td>\n",
              "                        <td id=\"T_f0c9a760_c9cd_11ea_a31c_0242ac1c0002row9_col8\" class=\"data row9 col8\" >nan</td>\n",
              "                        <td id=\"T_f0c9a760_c9cd_11ea_a31c_0242ac1c0002row9_col9\" class=\"data row9 col9\" >nan</td>\n",
              "                        <td id=\"T_f0c9a760_c9cd_11ea_a31c_0242ac1c0002row9_col10\" class=\"data row9 col10\" >nan</td>\n",
              "                        <td id=\"T_f0c9a760_c9cd_11ea_a31c_0242ac1c0002row9_col11\" class=\"data row9 col11\" >nan</td>\n",
              "                        <td id=\"T_f0c9a760_c9cd_11ea_a31c_0242ac1c0002row9_col12\" class=\"data row9 col12\" >nan</td>\n",
              "                        <td id=\"T_f0c9a760_c9cd_11ea_a31c_0242ac1c0002row9_col13\" class=\"data row9 col13\" >nan</td>\n",
              "                        <td id=\"T_f0c9a760_c9cd_11ea_a31c_0242ac1c0002row9_col14\" class=\"data row9 col14\" >nan</td>\n",
              "                        <td id=\"T_f0c9a760_c9cd_11ea_a31c_0242ac1c0002row9_col15\" class=\"data row9 col15\" >nan</td>\n",
              "            </tr>\n",
              "            <tr>\n",
              "                        <th id=\"T_f0c9a760_c9cd_11ea_a31c_0242ac1c0002level0_row10\" class=\"row_heading level0 row10\" >StockOptionLevel</th>\n",
              "                        <td id=\"T_f0c9a760_c9cd_11ea_a31c_0242ac1c0002row10_col0\" class=\"data row10 col0\" >-0.031504</td>\n",
              "                        <td id=\"T_f0c9a760_c9cd_11ea_a31c_0242ac1c0002row10_col1\" class=\"data row10 col1\" >0.009353</td>\n",
              "                        <td id=\"T_f0c9a760_c9cd_11ea_a31c_0242ac1c0002row10_col2\" class=\"data row10 col2\" >0.002386</td>\n",
              "                        <td id=\"T_f0c9a760_c9cd_11ea_a31c_0242ac1c0002row10_col3\" class=\"data row10 col3\" >nan</td>\n",
              "                        <td id=\"T_f0c9a760_c9cd_11ea_a31c_0242ac1c0002row10_col4\" class=\"data row10 col4\" >-0.013488</td>\n",
              "                        <td id=\"T_f0c9a760_c9cd_11ea_a31c_0242ac1c0002row10_col5\" class=\"data row10 col5\" >0.000365</td>\n",
              "                        <td id=\"T_f0c9a760_c9cd_11ea_a31c_0242ac1c0002row10_col6\" class=\"data row10 col6\" >0.027242</td>\n",
              "                        <td id=\"T_f0c9a760_c9cd_11ea_a31c_0242ac1c0002row10_col7\" class=\"data row10 col7\" >0.016291</td>\n",
              "                        <td id=\"T_f0c9a760_c9cd_11ea_a31c_0242ac1c0002row10_col8\" class=\"data row10 col8\" >0.012104</td>\n",
              "                        <td id=\"T_f0c9a760_c9cd_11ea_a31c_0242ac1c0002row10_col9\" class=\"data row10 col9\" >nan</td>\n",
              "                        <td id=\"T_f0c9a760_c9cd_11ea_a31c_0242ac1c0002row10_col10\" class=\"data row10 col10\" >1.000000</td>\n",
              "                        <td id=\"T_f0c9a760_c9cd_11ea_a31c_0242ac1c0002row10_col11\" class=\"data row10 col11\" >0.003138</td>\n",
              "                        <td id=\"T_f0c9a760_c9cd_11ea_a31c_0242ac1c0002row10_col12\" class=\"data row10 col12\" >-0.068028</td>\n",
              "                        <td id=\"T_f0c9a760_c9cd_11ea_a31c_0242ac1c0002row10_col13\" class=\"data row10 col13\" >0.009369</td>\n",
              "                        <td id=\"T_f0c9a760_c9cd_11ea_a31c_0242ac1c0002row10_col14\" class=\"data row10 col14\" >0.019889</td>\n",
              "                        <td id=\"T_f0c9a760_c9cd_11ea_a31c_0242ac1c0002row10_col15\" class=\"data row10 col15\" >0.019398</td>\n",
              "            </tr>\n",
              "            <tr>\n",
              "                        <th id=\"T_f0c9a760_c9cd_11ea_a31c_0242ac1c0002level0_row11\" class=\"row_heading level0 row11\" >TotalWorkingYears</th>\n",
              "                        <td id=\"T_f0c9a760_c9cd_11ea_a31c_0242ac1c0002row11_col0\" class=\"data row11 col0\" >0.680037</td>\n",
              "                        <td id=\"T_f0c9a760_c9cd_11ea_a31c_0242ac1c0002row11_col1\" class=\"data row11 col1\" >0.009574</td>\n",
              "                        <td id=\"T_f0c9a760_c9cd_11ea_a31c_0242ac1c0002row11_col2\" class=\"data row11 col2\" >-0.009228</td>\n",
              "                        <td id=\"T_f0c9a760_c9cd_11ea_a31c_0242ac1c0002row11_col3\" class=\"data row11 col3\" >nan</td>\n",
              "                        <td id=\"T_f0c9a760_c9cd_11ea_a31c_0242ac1c0002row11_col4\" class=\"data row11 col4\" >-0.001688</td>\n",
              "                        <td id=\"T_f0c9a760_c9cd_11ea_a31c_0242ac1c0002row11_col5\" class=\"data row11 col5\" >-0.036293</td>\n",
              "                        <td id=\"T_f0c9a760_c9cd_11ea_a31c_0242ac1c0002row11_col6\" class=\"data row11 col6\" >-0.034398</td>\n",
              "                        <td id=\"T_f0c9a760_c9cd_11ea_a31c_0242ac1c0002row11_col7\" class=\"data row11 col7\" >0.238807</td>\n",
              "                        <td id=\"T_f0c9a760_c9cd_11ea_a31c_0242ac1c0002row11_col8\" class=\"data row11 col8\" >-0.018480</td>\n",
              "                        <td id=\"T_f0c9a760_c9cd_11ea_a31c_0242ac1c0002row11_col9\" class=\"data row11 col9\" >nan</td>\n",
              "                        <td id=\"T_f0c9a760_c9cd_11ea_a31c_0242ac1c0002row11_col10\" class=\"data row11 col10\" >0.003138</td>\n",
              "                        <td id=\"T_f0c9a760_c9cd_11ea_a31c_0242ac1c0002row11_col11\" class=\"data row11 col11\" >1.000000</td>\n",
              "                        <td id=\"T_f0c9a760_c9cd_11ea_a31c_0242ac1c0002row11_col12\" class=\"data row11 col12\" >-0.041459</td>\n",
              "                        <td id=\"T_f0c9a760_c9cd_11ea_a31c_0242ac1c0002row11_col13\" class=\"data row11 col13\" >0.627738</td>\n",
              "                        <td id=\"T_f0c9a760_c9cd_11ea_a31c_0242ac1c0002row11_col14\" class=\"data row11 col14\" >0.404058</td>\n",
              "                        <td id=\"T_f0c9a760_c9cd_11ea_a31c_0242ac1c0002row11_col15\" class=\"data row11 col15\" >0.458640</td>\n",
              "            </tr>\n",
              "            <tr>\n",
              "                        <th id=\"T_f0c9a760_c9cd_11ea_a31c_0242ac1c0002level0_row12\" class=\"row_heading level0 row12\" >TrainingTimesLastYear</th>\n",
              "                        <td id=\"T_f0c9a760_c9cd_11ea_a31c_0242ac1c0002row12_col0\" class=\"data row12 col0\" >-0.028962</td>\n",
              "                        <td id=\"T_f0c9a760_c9cd_11ea_a31c_0242ac1c0002row12_col1\" class=\"data row12 col1\" >-0.008957</td>\n",
              "                        <td id=\"T_f0c9a760_c9cd_11ea_a31c_0242ac1c0002row12_col2\" class=\"data row12 col2\" >0.009939</td>\n",
              "                        <td id=\"T_f0c9a760_c9cd_11ea_a31c_0242ac1c0002row12_col3\" class=\"data row12 col3\" >nan</td>\n",
              "                        <td id=\"T_f0c9a760_c9cd_11ea_a31c_0242ac1c0002row12_col4\" class=\"data row12 col4\" >-0.012102</td>\n",
              "                        <td id=\"T_f0c9a760_c9cd_11ea_a31c_0242ac1c0002row12_col5\" class=\"data row12 col5\" >-0.031931</td>\n",
              "                        <td id=\"T_f0c9a760_c9cd_11ea_a31c_0242ac1c0002row12_col6\" class=\"data row12 col6\" >0.049780</td>\n",
              "                        <td id=\"T_f0c9a760_c9cd_11ea_a31c_0242ac1c0002row12_col7\" class=\"data row12 col7\" >-0.031335</td>\n",
              "                        <td id=\"T_f0c9a760_c9cd_11ea_a31c_0242ac1c0002row12_col8\" class=\"data row12 col8\" >-0.036720</td>\n",
              "                        <td id=\"T_f0c9a760_c9cd_11ea_a31c_0242ac1c0002row12_col9\" class=\"data row12 col9\" >nan</td>\n",
              "                        <td id=\"T_f0c9a760_c9cd_11ea_a31c_0242ac1c0002row12_col10\" class=\"data row12 col10\" >-0.068028</td>\n",
              "                        <td id=\"T_f0c9a760_c9cd_11ea_a31c_0242ac1c0002row12_col11\" class=\"data row12 col11\" >-0.041459</td>\n",
              "                        <td id=\"T_f0c9a760_c9cd_11ea_a31c_0242ac1c0002row12_col12\" class=\"data row12 col12\" >1.000000</td>\n",
              "                        <td id=\"T_f0c9a760_c9cd_11ea_a31c_0242ac1c0002row12_col13\" class=\"data row12 col13\" >-0.010447</td>\n",
              "                        <td id=\"T_f0c9a760_c9cd_11ea_a31c_0242ac1c0002row12_col14\" class=\"data row12 col14\" >0.015340</td>\n",
              "                        <td id=\"T_f0c9a760_c9cd_11ea_a31c_0242ac1c0002row12_col15\" class=\"data row12 col15\" >-0.015792</td>\n",
              "            </tr>\n",
              "            <tr>\n",
              "                        <th id=\"T_f0c9a760_c9cd_11ea_a31c_0242ac1c0002level0_row13\" class=\"row_heading level0 row13\" >YearsAtCompany</th>\n",
              "                        <td id=\"T_f0c9a760_c9cd_11ea_a31c_0242ac1c0002row13_col0\" class=\"data row13 col0\" >0.311281</td>\n",
              "                        <td id=\"T_f0c9a760_c9cd_11ea_a31c_0242ac1c0002row13_col1\" class=\"data row13 col1\" >0.030746</td>\n",
              "                        <td id=\"T_f0c9a760_c9cd_11ea_a31c_0242ac1c0002row13_col2\" class=\"data row13 col2\" >0.005997</td>\n",
              "                        <td id=\"T_f0c9a760_c9cd_11ea_a31c_0242ac1c0002row13_col3\" class=\"data row13 col3\" >nan</td>\n",
              "                        <td id=\"T_f0c9a760_c9cd_11ea_a31c_0242ac1c0002row13_col4\" class=\"data row13 col4\" >0.004117</td>\n",
              "                        <td id=\"T_f0c9a760_c9cd_11ea_a31c_0242ac1c0002row13_col5\" class=\"data row13 col5\" >-0.063360</td>\n",
              "                        <td id=\"T_f0c9a760_c9cd_11ea_a31c_0242ac1c0002row13_col6\" class=\"data row13 col6\" >0.000088</td>\n",
              "                        <td id=\"T_f0c9a760_c9cd_11ea_a31c_0242ac1c0002row13_col7\" class=\"data row13 col7\" >-0.117213</td>\n",
              "                        <td id=\"T_f0c9a760_c9cd_11ea_a31c_0242ac1c0002row13_col8\" class=\"data row13 col8\" >-0.029022</td>\n",
              "                        <td id=\"T_f0c9a760_c9cd_11ea_a31c_0242ac1c0002row13_col9\" class=\"data row13 col9\" >nan</td>\n",
              "                        <td id=\"T_f0c9a760_c9cd_11ea_a31c_0242ac1c0002row13_col10\" class=\"data row13 col10\" >0.009369</td>\n",
              "                        <td id=\"T_f0c9a760_c9cd_11ea_a31c_0242ac1c0002row13_col11\" class=\"data row13 col11\" >0.627738</td>\n",
              "                        <td id=\"T_f0c9a760_c9cd_11ea_a31c_0242ac1c0002row13_col12\" class=\"data row13 col12\" >-0.010447</td>\n",
              "                        <td id=\"T_f0c9a760_c9cd_11ea_a31c_0242ac1c0002row13_col13\" class=\"data row13 col13\" >1.000000</td>\n",
              "                        <td id=\"T_f0c9a760_c9cd_11ea_a31c_0242ac1c0002row13_col14\" class=\"data row13 col14\" >0.618722</td>\n",
              "                        <td id=\"T_f0c9a760_c9cd_11ea_a31c_0242ac1c0002row13_col15\" class=\"data row13 col15\" >0.769161</td>\n",
              "            </tr>\n",
              "            <tr>\n",
              "                        <th id=\"T_f0c9a760_c9cd_11ea_a31c_0242ac1c0002level0_row14\" class=\"row_heading level0 row14\" >YearsSinceLastPromotion</th>\n",
              "                        <td id=\"T_f0c9a760_c9cd_11ea_a31c_0242ac1c0002row14_col0\" class=\"data row14 col0\" >0.215650</td>\n",
              "                        <td id=\"T_f0c9a760_c9cd_11ea_a31c_0242ac1c0002row14_col1\" class=\"data row14 col1\" >0.002243</td>\n",
              "                        <td id=\"T_f0c9a760_c9cd_11ea_a31c_0242ac1c0002row14_col2\" class=\"data row14 col2\" >0.023457</td>\n",
              "                        <td id=\"T_f0c9a760_c9cd_11ea_a31c_0242ac1c0002row14_col3\" class=\"data row14 col3\" >nan</td>\n",
              "                        <td id=\"T_f0c9a760_c9cd_11ea_a31c_0242ac1c0002row14_col4\" class=\"data row14 col4\" >0.000814</td>\n",
              "                        <td id=\"T_f0c9a760_c9cd_11ea_a31c_0242ac1c0002row14_col5\" class=\"data row14 col5\" >-0.059680</td>\n",
              "                        <td id=\"T_f0c9a760_c9cd_11ea_a31c_0242ac1c0002row14_col6\" class=\"data row14 col6\" >0.064470</td>\n",
              "                        <td id=\"T_f0c9a760_c9cd_11ea_a31c_0242ac1c0002row14_col7\" class=\"data row14 col7\" >-0.035855</td>\n",
              "                        <td id=\"T_f0c9a760_c9cd_11ea_a31c_0242ac1c0002row14_col8\" class=\"data row14 col8\" >-0.028654</td>\n",
              "                        <td id=\"T_f0c9a760_c9cd_11ea_a31c_0242ac1c0002row14_col9\" class=\"data row14 col9\" >nan</td>\n",
              "                        <td id=\"T_f0c9a760_c9cd_11ea_a31c_0242ac1c0002row14_col10\" class=\"data row14 col10\" >0.019889</td>\n",
              "                        <td id=\"T_f0c9a760_c9cd_11ea_a31c_0242ac1c0002row14_col11\" class=\"data row14 col11\" >0.404058</td>\n",
              "                        <td id=\"T_f0c9a760_c9cd_11ea_a31c_0242ac1c0002row14_col12\" class=\"data row14 col12\" >0.015340</td>\n",
              "                        <td id=\"T_f0c9a760_c9cd_11ea_a31c_0242ac1c0002row14_col13\" class=\"data row14 col13\" >0.618722</td>\n",
              "                        <td id=\"T_f0c9a760_c9cd_11ea_a31c_0242ac1c0002row14_col14\" class=\"data row14 col14\" >1.000000</td>\n",
              "                        <td id=\"T_f0c9a760_c9cd_11ea_a31c_0242ac1c0002row14_col15\" class=\"data row14 col15\" >0.510341</td>\n",
              "            </tr>\n",
              "            <tr>\n",
              "                        <th id=\"T_f0c9a760_c9cd_11ea_a31c_0242ac1c0002level0_row15\" class=\"row_heading level0 row15\" >YearsWithCurrManager</th>\n",
              "                        <td id=\"T_f0c9a760_c9cd_11ea_a31c_0242ac1c0002row15_col0\" class=\"data row15 col0\" >0.201580</td>\n",
              "                        <td id=\"T_f0c9a760_c9cd_11ea_a31c_0242ac1c0002row15_col1\" class=\"data row15 col1\" >0.021773</td>\n",
              "                        <td id=\"T_f0c9a760_c9cd_11ea_a31c_0242ac1c0002row15_col2\" class=\"data row15 col2\" >0.005645</td>\n",
              "                        <td id=\"T_f0c9a760_c9cd_11ea_a31c_0242ac1c0002row15_col3\" class=\"data row15 col3\" >nan</td>\n",
              "                        <td id=\"T_f0c9a760_c9cd_11ea_a31c_0242ac1c0002row15_col4\" class=\"data row15 col4\" >0.009079</td>\n",
              "                        <td id=\"T_f0c9a760_c9cd_11ea_a31c_0242ac1c0002row15_col5\" class=\"data row15 col5\" >-0.053898</td>\n",
              "                        <td id=\"T_f0c9a760_c9cd_11ea_a31c_0242ac1c0002row15_col6\" class=\"data row15 col6\" >0.023095</td>\n",
              "                        <td id=\"T_f0c9a760_c9cd_11ea_a31c_0242ac1c0002row15_col7\" class=\"data row15 col7\" >-0.109372</td>\n",
              "                        <td id=\"T_f0c9a760_c9cd_11ea_a31c_0242ac1c0002row15_col8\" class=\"data row15 col8\" >-0.039687</td>\n",
              "                        <td id=\"T_f0c9a760_c9cd_11ea_a31c_0242ac1c0002row15_col9\" class=\"data row15 col9\" >nan</td>\n",
              "                        <td id=\"T_f0c9a760_c9cd_11ea_a31c_0242ac1c0002row15_col10\" class=\"data row15 col10\" >0.019398</td>\n",
              "                        <td id=\"T_f0c9a760_c9cd_11ea_a31c_0242ac1c0002row15_col11\" class=\"data row15 col11\" >0.458640</td>\n",
              "                        <td id=\"T_f0c9a760_c9cd_11ea_a31c_0242ac1c0002row15_col12\" class=\"data row15 col12\" >-0.015792</td>\n",
              "                        <td id=\"T_f0c9a760_c9cd_11ea_a31c_0242ac1c0002row15_col13\" class=\"data row15 col13\" >0.769161</td>\n",
              "                        <td id=\"T_f0c9a760_c9cd_11ea_a31c_0242ac1c0002row15_col14\" class=\"data row15 col14\" >0.510341</td>\n",
              "                        <td id=\"T_f0c9a760_c9cd_11ea_a31c_0242ac1c0002row15_col15\" class=\"data row15 col15\" >1.000000</td>\n",
              "            </tr>\n",
              "    </tbody></table>"
            ],
            "text/plain": [
              "<pandas.io.formats.style.Styler at 0x7efe43757748>"
            ]
          },
          "metadata": {
            "tags": []
          },
          "execution_count": 27
        }
      ]
    },
    {
      "cell_type": "code",
      "metadata": {
        "id": "ZB0Y93I-iIDC",
        "colab_type": "code",
        "colab": {
          "base_uri": "https://localhost:8080/",
          "height": 275
        },
        "outputId": "a564f9d5-f49e-462b-e550-22f3537c9c3c"
      },
      "source": [
        "plt.matshow(df.corr())\n",
        "plt.show()"
      ],
      "execution_count": null,
      "outputs": [
        {
          "output_type": "display_data",
          "data": {
            "image/png": "[encoded data removed]",
            "text/plain": [
              "<Figure size 288x288 with 1 Axes>"
            ]
          },
          "metadata": {
            "tags": [],
            "needs_background": "light"
          }
        }
      ]
    },
    {
      "cell_type": "code",
      "metadata": {
        "id": "5oJSO-P3n1UA",
        "colab_type": "code",
        "colab": {}
      },
      "source": [
        ""
      ],
      "execution_count": null,
      "outputs": []
    }
  ]
}