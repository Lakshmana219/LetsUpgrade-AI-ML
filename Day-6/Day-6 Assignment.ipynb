{
  "nbformat": 4,
  "nbformat_minor": 0,
  "metadata": {
    "colab": {
      "name": "Day-6 Assignment.ipynb",
      "provenance": [],
      "collapsed_sections": []
    },
    "kernelspec": {
      "name": "python3",
      "display_name": "Python 3"
    }
  },
  "cells": [
    {
      "cell_type": "markdown",
      "metadata": {
        "id": "gxgcNJXOAFwO",
        "colab_type": "text"
      },
      "source": [
        "Question 1:\n",
        "Assuming that we have some email addresses in the \"username@companyname.com\" format, please write program\n",
        "to print the company name of a given email address. Both user names and company names are composed of letters\n",
        "only."
      ]
    },
    {
      "cell_type": "code",
      "metadata": {
        "id": "lmQkcD3D__mC",
        "colab_type": "code",
        "colab": {
          "base_uri": "https://localhost:8080/",
          "height": 34
        },
        "outputId": "912266bd-6c2f-4ca6-fb9e-8b6447b8fd8f"
      },
      "source": [
        "email = 'john@google.com'\n",
        "email_domain = email.split('@')[1]\n",
        "company_Name = email_domain.split('.')[0]\n",
        "print(company_Name)"
      ],
      "execution_count": 7,
      "outputs": [
        {
          "output_type": "stream",
          "text": [
            "google\n"
          ],
          "name": "stdout"
        }
      ]
    },
    {
      "cell_type": "markdown",
      "metadata": {
        "id": "0LBub7IGJv6M",
        "colab_type": "text"
      },
      "source": [
        "Question 2:\n",
        "Write a program that accepts a comma-separated sequence of words as input and prints the words in a comma\n",
        "separated sequence after sorting them alphabetically.\n"
      ]
    },
    {
      "cell_type": "code",
      "metadata": {
        "id": "qYE7_E7aBtdN",
        "colab_type": "code",
        "colab": {
          "base_uri": "https://localhost:8080/",
          "height": 34
        },
        "outputId": "f0431da5-bc04-493a-cc2c-28467627ef11"
      },
      "source": [
        "input = ['Without','Hello','Bag','World']\n",
        "input.sort()\n",
        "print(input)"
      ],
      "execution_count": 12,
      "outputs": [
        {
          "output_type": "stream",
          "text": [
            "['Bag', 'Hello', 'Without', 'World']\n"
          ],
          "name": "stdout"
        }
      ]
    },
    {
      "cell_type": "markdown",
      "metadata": {
        "id": "eR3xFhx7Mt_H",
        "colab_type": "text"
      },
      "source": [
        "Question 3: Create your own Jupyter Notebook for Sets."
      ]
    },
    {
      "cell_type": "code",
      "metadata": {
        "id": "VzXjZQtRM2qz",
        "colab_type": "code",
        "colab": {
          "base_uri": "https://localhost:8080/",
          "height": 34
        },
        "outputId": "d411bc9f-5b46-4dce-bbc5-d7c0b55cb47d"
      },
      "source": [
        "my_set = {1, 2, 3, 4, 3, 2}\n",
        "print(my_set)"
      ],
      "execution_count": 13,
      "outputs": [
        {
          "output_type": "stream",
          "text": [
            "{1, 2, 3, 4}\n"
          ],
          "name": "stdout"
        }
      ]
    },
    {
      "cell_type": "code",
      "metadata": {
        "id": "dLhKMUdTNMyB",
        "colab_type": "code",
        "colab": {
          "base_uri": "https://localhost:8080/",
          "height": 51
        },
        "outputId": "f033979c-9984-4f0c-a9e6-90998b39899d"
      },
      "source": [
        "my_set = set([1, 2, 3, 2])\n",
        "print(my_set)\n",
        "print(type(my_set))"
      ],
      "execution_count": 16,
      "outputs": [
        {
          "output_type": "stream",
          "text": [
            "{1, 2, 3}\n",
            "<class 'set'>\n"
          ],
          "name": "stdout"
        }
      ]
    },
    {
      "cell_type": "code",
      "metadata": {
        "id": "7N8WPY7n6Y4O",
        "colab_type": "code",
        "colab": {
          "base_uri": "https://localhost:8080/",
          "height": 119
        },
        "outputId": "5dc39e7a-8664-4d52-88ca-b5605604bec7"
      },
      "source": [
        "my_set = {1, 3}\n",
        "print(my_set)\n",
        "my_set.add(2)\n",
        "print(my_set)\n",
        "my_set.update([5, 6, 4])\n",
        "print(my_set)\n",
        "my_set.update([7, 8], {1, 6, 9})\n",
        "print(my_set)\n",
        "my_set.discard(4)\n",
        "print(my_set)\n",
        "my_set.remove(6)\n",
        "print(my_set)"
      ],
      "execution_count": 25,
      "outputs": [
        {
          "output_type": "stream",
          "text": [
            "{1, 3}\n",
            "{1, 2, 3}\n",
            "{1, 2, 3, 4, 5, 6}\n",
            "{1, 2, 3, 4, 5, 6, 7, 8, 9}\n",
            "{1, 2, 3, 5, 6, 7, 8, 9}\n",
            "{1, 2, 3, 5, 7, 8, 9}\n"
          ],
          "name": "stdout"
        }
      ]
    },
    {
      "cell_type": "code",
      "metadata": {
        "id": "4tB-rYPx6gC_",
        "colab_type": "code",
        "colab": {
          "base_uri": "https://localhost:8080/",
          "height": 34
        },
        "outputId": "a6ed502d-b5e6-4633-a4fa-24ba330be974"
      },
      "source": [
        "print(my_set.pop())"
      ],
      "execution_count": 26,
      "outputs": [
        {
          "output_type": "stream",
          "text": [
            "1\n"
          ],
          "name": "stdout"
        }
      ]
    },
    {
      "cell_type": "code",
      "metadata": {
        "id": "wTOhrV8T7jeI",
        "colab_type": "code",
        "colab": {
          "base_uri": "https://localhost:8080/",
          "height": 34
        },
        "outputId": "fb123b63-6a17-4329-e7bb-122d3eb777a3"
      },
      "source": [
        "my_set.clear()\n",
        "print(my_set)"
      ],
      "execution_count": 27,
      "outputs": [
        {
          "output_type": "stream",
          "text": [
            "set()\n"
          ],
          "name": "stdout"
        }
      ]
    },
    {
      "cell_type": "code",
      "metadata": {
        "id": "1c7ERYkT7qNS",
        "colab_type": "code",
        "colab": {
          "base_uri": "https://localhost:8080/",
          "height": 119
        },
        "outputId": "1c9f5dcd-69ae-4df6-9442-0ef085f3e765"
      },
      "source": [
        "A = {1, 2, 3, 4, 5}\n",
        "B = {4, 5, 6, 7, 8}\n",
        "# Union\n",
        "print(A | B)\n",
        "A.union(B)\n",
        "B.union(A)\n",
        "# inter section\n",
        "print('inter section',A & B)\n",
        "A.intersection(B)\n",
        "# difference\n",
        "print(\"Difference\", A - B)\n",
        "# symmetric_difference\n",
        "print(\"symmetric_difference\", A ^ B)\n",
        "print(\"Symmetric Difference\",A.symmetric_difference(B))\n",
        "print('3' not in my_set)"
      ],
      "execution_count": 37,
      "outputs": [
        {
          "output_type": "stream",
          "text": [
            "{1, 2, 3, 4, 5, 6, 7, 8}\n",
            "inter section {4, 5}\n",
            "Difference {1, 2, 3}\n",
            "symmetric_difference {1, 2, 3, 6, 7, 8}\n",
            "Symmetric Difference {1, 2, 3, 6, 7, 8}\n",
            "True\n"
          ],
          "name": "stdout"
        }
      ]
    },
    {
      "cell_type": "markdown",
      "metadata": {
        "id": "EBWg8AhsaBuV",
        "colab_type": "text"
      },
      "source": [
        "Question 4:\n",
        "Given a list of n-1 numbers ranging from 1 to n, your task is to find the missing number. There are no duplicates.\n"
      ]
    },
    {
      "cell_type": "code",
      "metadata": {
        "id": "xVj4llXVNPiN",
        "colab_type": "code",
        "colab": {
          "base_uri": "https://localhost:8080/",
          "height": 34
        },
        "outputId": "47514ae2-4e1d-4973-db25-8fa635b56f83"
      },
      "source": [
        "L = [1,3,4,5,6,8,9, 10, 14,16, 17, 20]\n",
        "for i in range(1,21):\n",
        "  if i not in L:\n",
        "    print(i, end=' ')"
      ],
      "execution_count": 52,
      "outputs": [
        {
          "output_type": "stream",
          "text": [
            "2 7 11 12 13 15 18 19 "
          ],
          "name": "stdout"
        }
      ]
    },
    {
      "cell_type": "markdown",
      "metadata": {
        "id": "ADLq0MZ9-eE8",
        "colab_type": "text"
      },
      "source": [
        "In the above list, [2,7,11,12,13,15,18,19] are missing."
      ]
    },
    {
      "cell_type": "markdown",
      "metadata": {
        "id": "RKitjmDs-Ta-",
        "colab_type": "text"
      },
      "source": [
        "Question 5:\n",
        "With a given list L, write a program to print this list L after removing all duplicate values with original order reserved."
      ]
    },
    {
      "cell_type": "code",
      "metadata": {
        "id": "32-WYnvLbJjZ",
        "colab_type": "code",
        "colab": {
          "base_uri": "https://localhost:8080/",
          "height": 34
        },
        "outputId": "996d41e9-7c65-4b17-efe1-9cf5753677a3"
      },
      "source": [
        "#del L\n",
        "L = [1,3,3,5,10,8,9, 10, 14,1, 10, 20]\n",
        "print(list(set(L)))"
      ],
      "execution_count": 60,
      "outputs": [
        {
          "output_type": "stream",
          "text": [
            "[1, 3, 5, 8, 9, 10, 14, 20]\n"
          ],
          "name": "stdout"
        }
      ]
    },
    {
      "cell_type": "markdown",
      "metadata": {
        "id": "q-dJqF8HBCKr",
        "colab_type": "text"
      },
      "source": [
        "1, 3, 5, 8, 9, 10, 14, 20 element of the list L has been removed because it was already present."
      ]
    },
    {
      "cell_type": "code",
      "metadata": {
        "id": "9moSusVgBIuM",
        "colab_type": "code",
        "colab": {}
      },
      "source": [
        ""
      ],
      "execution_count": null,
      "outputs": []
    }
  ]
}