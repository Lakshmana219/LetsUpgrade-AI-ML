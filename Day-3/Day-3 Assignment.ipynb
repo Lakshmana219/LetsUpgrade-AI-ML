{
 "cells": [
  {
   "cell_type": "markdown",
   "metadata": {},
   "source": [
    "## Question-1 Program to subtract two complex numbers in Python"
   ]
  },
  {
   "cell_type": "code",
   "execution_count": 6,
   "metadata": {},
   "outputs": [
    {
     "name": "stdout",
     "output_type": "stream",
     "text": [
      "Subtraction of two complex numbers are : (2+2j)\n"
     ]
    }
   ],
   "source": [
    "a = 7+4j\n",
    "b = 5+2j\n",
    "c=a-b\n",
    "print(\"Subtraction of two complex numbers are :\",c)"
   ]
  },
  {
   "cell_type": "markdown",
   "metadata": {},
   "source": [
    "## Question-2 Program to find the fourth root of a number"
   ]
  },
  {
   "cell_type": "code",
   "execution_count": 1,
   "metadata": {},
   "outputs": [
    {
     "name": "stdout",
     "output_type": "stream",
     "text": [
      "3.1622776601683795\n"
     ]
    }
   ],
   "source": [
    "x = 100\n",
    "print(x**(1/float(4)))"
   ]
  },
  {
   "cell_type": "markdown",
   "metadata": {},
   "source": [
    "## Question-3 Swap two numbers using a temporary variable"
   ]
  },
  {
   "cell_type": "code",
   "execution_count": 11,
   "metadata": {},
   "outputs": [
    {
     "name": "stdout",
     "output_type": "stream",
     "text": [
      "Before Swapping\n",
      "Value of x: 6 and y:  12\n",
      "After Swapping\n",
      "Value of x: 12 and y:  6\n"
     ]
    }
   ],
   "source": [
    "x=6\n",
    "y=12\n",
    "print(\"Before Swapping\")\n",
    "print(\"Value of x:\" ,x, \"and y: \",y)\n",
    "temp = x\n",
    "x = y\n",
    "y = temp\n",
    "print(\"After Swapping\")\n",
    "print(\"Value of x:\" ,x, \"and y: \",y)"
   ]
  },
  {
   "cell_type": "markdown",
   "metadata": {},
   "source": [
    "## Question-4 Swap two numbers without using a temporary variable"
   ]
  },
  {
   "cell_type": "code",
   "execution_count": 10,
   "metadata": {},
   "outputs": [
    {
     "name": "stdout",
     "output_type": "stream",
     "text": [
      "Before Swapping\n",
      "Value of x: 3 and y:  5\n",
      "After Swapping\n",
      "Value of x: 5 and y:  3\n"
     ]
    }
   ],
   "source": [
    "x=3\n",
    "y=5\n",
    "print(\"Before Swapping\")\n",
    "print(\"Value of x:\" ,x, \"and y: \",y)\n",
    "x , y = y , x\n",
    "print(\"After Swapping\")\n",
    "print(\"Value of x:\" ,x, \"and y: \",y)"
   ]
  },
  {
   "cell_type": "markdown",
   "metadata": {},
   "source": [
    "## Question-5 Convert fahrenheit to kelvin and celsius"
   ]
  },
  {
   "cell_type": "code",
   "execution_count": null,
   "metadata": {},
   "outputs": [],
   "source": [
    "F = 210\n",
    "Fahrenheit_to_kelvin = 273.5 + ((F -32.0) * (5.0/9.0))\n",
    "print(Fahrenheit_to_kelvin)\n",
    "Fahrenheit_to_celsius = (F - 32.0) * (5.0/9.0)\n",
    "print(Fahrenheit_to_celsius)"
   ]
  },
  {
   "cell_type": "markdown",
   "metadata": {},
   "source": [
    "## Question-6 Demonstrate all the available data types"
   ]
  },
  {
   "cell_type": "code",
   "execution_count": 41,
   "metadata": {},
   "outputs": [
    {
     "name": "stdout",
     "output_type": "stream",
     "text": [
      "<class 'list'>\n",
      "<class 'dict'>\n",
      "<class 'tuple'>\n",
      "<class 'set'>\n",
      "<class 'bool'>\n",
      "<class 'int'>\n",
      "<class 'float'>\n",
      "<class 'str'>\n"
     ]
    }
   ],
   "source": [
    "a=[1,2,1,1,1,2]\n",
    "print(type(a))\n",
    "b= {'one':1,'two':2}\n",
    "print(type(b))\n",
    "c=(3,4,5)\n",
    "print(type(c))\n",
    "d=set(a)\n",
    "print(type(d))\n",
    "e = 1>2\n",
    "print(type(e))\n",
    "f = 1\n",
    "print(type(f))\n",
    "g=1.25\n",
    "print(type(g))\n",
    "h = \"hello world\"\n",
    "print(type(h))"
   ]
  },
  {
   "cell_type": "markdown",
   "metadata": {},
   "source": [
    "## Question-7 Github profile creation"
   ]
  },
  {
   "cell_type": "markdown",
   "metadata": {},
   "source": [
    "# Steps to create a profile in Github:\n",
    "## 1: Give your Gmail address\n",
    "## 2: Create a password\n",
    "## 3: Create a repository with public mode\n",
    "## 4: Upload your jupyter notebook using upload files option\n",
    "## 5: Copy the github url\n",
    "## 6: Open the form which was given by letsupgrade team and fill all details and paste the github url"
   ]
  },
  {
   "cell_type": "code",
   "execution_count": null,
   "metadata": {},
   "outputs": [],
   "source": []
  }
 ],
 "metadata": {
  "kernelspec": {
   "display_name": "Python 3",
   "language": "python",
   "name": "python3"
  },
  "language_info": {
   "codemirror_mode": {
    "name": "ipython",
    "version": 3
   },
   "file_extension": ".py",
   "mimetype": "text/x-python",
   "name": "python",
   "nbconvert_exporter": "python",
   "pygments_lexer": "ipython3",
   "version": "3.7.6"
  }
 },
 "nbformat": 4,
 "nbformat_minor": 2
}
